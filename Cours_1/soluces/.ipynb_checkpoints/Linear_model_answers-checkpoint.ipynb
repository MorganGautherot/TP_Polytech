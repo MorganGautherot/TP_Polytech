{
 "cells": [
  {
   "cell_type": "markdown",
   "metadata": {
    "colab_type": "text",
    "id": "jhv5lEVgr7Ba"
   },
   "source": [
    "# Linear models\n",
    "*Author -- Morgan Gautherot*\n",
    "\n",
    "If you have any question please feel free to send me an email at :\n",
    "\n",
    "gautherotmorgan0@gmail.com"
   ]
  },
  {
   "cell_type": "markdown",
   "metadata": {
    "colab_type": "text",
    "id": "VXMahy51cmvi"
   },
   "source": [
    "##1. Linear regression"
   ]
  },
  {
   "cell_type": "markdown",
   "metadata": {
    "colab_type": "text",
    "id": "lUZ7TrAfcqS2"
   },
   "source": [
    "In this exercice, you will implement linear regression and get to see it work on data. Before starting on this programming exercice, we strongly recommend to pay attention to the last part which deal with python for data science."
   ]
  },
  {
   "cell_type": "markdown",
   "metadata": {
    "colab_type": "text",
    "id": "KxMHgSt5dMA_"
   },
   "source": [
    "### 1.1 Univariate linear regression\n",
    "\n",
    "You will start with the implementation of linear regression with one variable. The goal is to predict profits for a food truck. Suppose you are the CEO of a restaurant franchise and are considering different cities for openning a new outlet. The chain already has trucks in various cities and you have data for profits and populations from cities. You would like to use this data to help you select which city to expand."
   ]
  },
  {
   "cell_type": "markdown",
   "metadata": {
    "colab_type": "text",
    "id": "YJX3TT6JgbqX"
   },
   "source": [
    "First step you will run this cell to import all the package and initialize the seed you need for the rest of this exercice."
   ]
  },
  {
   "cell_type": "code",
   "execution_count": 1,
   "metadata": {
    "colab": {},
    "colab_type": "code",
    "id": "UBn5MbcSe2K-"
   },
   "outputs": [],
   "source": [
    "import matplotlib.pyplot as plt\n",
    "import seaborn as sns\n",
    "import numpy as np\n",
    "\n",
    "np.random.seed(123)"
   ]
  },
  {
   "cell_type": "markdown",
   "metadata": {
    "colab_type": "text",
    "id": "V80y20Zcg9UC"
   },
   "source": [
    "To work we need data, run this piece of code and upload the dataset : univariate_regression.txt"
   ]
  },
  {
   "cell_type": "code",
   "execution_count": 2,
   "metadata": {
    "colab": {
     "base_uri": "https://localhost:8080/",
     "height": 90,
     "resources": {
      "http://localhost:8080/nbextensions/google.colab/files.js": {
       "data": "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",
       "headers": [
        [
         "content-type",
         "application/javascript"
        ]
       ],
       "ok": true,
       "status": 200,
       "status_text": ""
      }
     }
    },
    "colab_type": "code",
    "id": "swX1gjGdeQtg",
    "outputId": "a0357f67-86b7-4464-8585-7b08c08bea06"
   },
   "outputs": [
    {
     "ename": "ModuleNotFoundError",
     "evalue": "No module named 'google.colab'",
     "output_type": "error",
     "traceback": [
      "\u001b[0;31m---------------------------------------------------------------------------\u001b[0m",
      "\u001b[0;31mModuleNotFoundError\u001b[0m                       Traceback (most recent call last)",
      "\u001b[0;32m<ipython-input-2-7267764ce534>\u001b[0m in \u001b[0;36m<module>\u001b[0;34m\u001b[0m\n\u001b[0;32m----> 1\u001b[0;31m \u001b[0;32mfrom\u001b[0m \u001b[0mgoogle\u001b[0m\u001b[0;34m.\u001b[0m\u001b[0mcolab\u001b[0m \u001b[0;32mimport\u001b[0m \u001b[0mfiles\u001b[0m\u001b[0;34m\u001b[0m\u001b[0m\n\u001b[0m\u001b[1;32m      2\u001b[0m \u001b[0;34m\u001b[0m\u001b[0m\n\u001b[1;32m      3\u001b[0m \u001b[0muploaded\u001b[0m \u001b[0;34m=\u001b[0m \u001b[0mfiles\u001b[0m\u001b[0;34m.\u001b[0m\u001b[0mupload\u001b[0m\u001b[0;34m(\u001b[0m\u001b[0;34m)\u001b[0m\u001b[0;34m\u001b[0m\u001b[0m\n\u001b[1;32m      4\u001b[0m \u001b[0;34m\u001b[0m\u001b[0m\n\u001b[1;32m      5\u001b[0m \u001b[0;32mfor\u001b[0m \u001b[0mfn\u001b[0m \u001b[0;32min\u001b[0m \u001b[0muploaded\u001b[0m\u001b[0;34m.\u001b[0m\u001b[0mkeys\u001b[0m\u001b[0;34m(\u001b[0m\u001b[0;34m)\u001b[0m\u001b[0;34m:\u001b[0m\u001b[0;34m\u001b[0m\u001b[0m\n",
      "\u001b[0;31mModuleNotFoundError\u001b[0m: No module named 'google.colab'"
     ]
    }
   ],
   "source": [
    "from google.colab import files\n",
    "\n",
    "uploaded = files.upload()\n",
    "\n",
    "for fn in uploaded.keys():\n",
    "    print('User uploaded file \"{name}\" with length {length} bytes'.format(name=fn, length=len(uploaded[fn])))"
   ]
  },
  {
   "cell_type": "code",
   "execution_count": 6,
   "metadata": {
    "colab": {},
    "colab_type": "code",
    "id": "k3eCGWeueoWh"
   },
   "outputs": [],
   "source": [
    "univariate_regression = np.genfromtxt('data/univariate_regression.txt', delimiter=',')"
   ]
  },
  {
   "cell_type": "code",
   "execution_count": 7,
   "metadata": {
    "colab": {},
    "colab_type": "code",
    "id": "y0aNFfr-1wfi"
   },
   "outputs": [],
   "source": [
    "# We construct the X dataset \n",
    "X = univariate_regression[:, 0]\n",
    "\n",
    "# We construct the Y dataset\n",
    "Y = univariate_regression[:, 1]"
   ]
  },
  {
   "cell_type": "markdown",
   "metadata": {
    "colab_type": "text",
    "id": "sbuRIKZLhbGs"
   },
   "source": [
    "You can use matplotlib to plot the data and see how it looks."
   ]
  },
  {
   "cell_type": "code",
   "execution_count": 8,
   "metadata": {
    "colab": {
     "base_uri": "https://localhost:8080/",
     "height": 382
    },
    "colab_type": "code",
    "id": "lRvEwTTefBsF",
    "outputId": "8062fdde-f2a1-44f9-aa6f-4de007006037"
   },
   "outputs": [
    {
     "data": {
      "image/png": "[encoded data removed]",
      "text/plain": [
       "<Figure size 432x288 with 1 Axes>"
      ]
     },
     "metadata": {
      "needs_background": "light"
     },
     "output_type": "display_data"
    }
   ],
   "source": [
    "plt.scatter(X, Y)\n",
    "plt.title('Scatter plot of training data', size='xx-large')\n",
    "plt.xlabel('Population of City in 10.000s')\n",
    "plt.ylabel('Profit in $10.000s')\n",
    "\n",
    "plt.show()"
   ]
  },
  {
   "cell_type": "markdown",
   "metadata": {
    "colab_type": "text",
    "id": "CxySmyr7lkxk"
   },
   "source": [
    "Now we can start to code our linear regression. Recall the hypothesis for univariate regression :\n",
    "\n"
   ]
  },
  {
   "cell_type": "markdown",
   "metadata": {
    "colab_type": "text",
    "id": "B6HIqEaxmamP"
   },
   "source": [
    "$$h_{w}(x) =w_0 + w_1 x_1$$\n",
    "\n"
   ]
  },
  {
   "cell_type": "markdown",
   "metadata": {
    "colab_type": "text",
    "id": "nFgmiP7znjbl"
   },
   "source": [
    "Start by complete this function which will compute the above equation."
   ]
  },
  {
   "cell_type": "code",
   "execution_count": 9,
   "metadata": {
    "colab": {},
    "colab_type": "code",
    "id": "aVkCEM9Znrhf"
   },
   "outputs": [],
   "source": [
    "def hypothesis(X, W):\n",
    "  \"\"\" Predict our h(x) in function of their features \n",
    "  INPUT :\n",
    "    X float\n",
    "    W shape (n,)\n",
    "  OUTPUT :\n",
    "    h(X) float\"\"\"\n",
    "### Your code start here ###\n",
    "  return W[0] + W[1] * X\n",
    "### Your code end here ###"
   ]
  },
  {
   "cell_type": "code",
   "execution_count": 10,
   "metadata": {
    "colab": {
     "base_uri": "https://localhost:8080/",
     "height": 84
    },
    "colab_type": "code",
    "id": "m0nQjU_nqxs6",
    "outputId": "899d0766-6279-40d1-c069-f5d9da5812c4"
   },
   "outputs": [
    {
     "name": "stdout",
     "output_type": "stream",
     "text": [
      "X = 5.5277\n",
      "w_0 = 1\n",
      "w_1 = 4\n",
      "h(X) = 23.1108\n"
     ]
    }
   ],
   "source": [
    "W = np.array((1, 4))\n",
    "print(\"X = \" + str(X[1]) + \"\\nw_0 = 1\\nw_1 = 4\\nh(X) = \" + str(hypothesis(X[1], W)))"
   ]
  },
  {
   "cell_type": "markdown",
   "metadata": {
    "colab_type": "text",
    "id": "-GMWdF11qzvR"
   },
   "source": [
    "You should have :\n",
    "\n",
    "X = 5.5277\n",
    "\n",
    "w_0 = 1\n",
    "\n",
    "w_1 = 4\n",
    "\n",
    "h(X) = 23.1108"
   ]
  },
  {
   "cell_type": "markdown",
   "metadata": {
    "colab_type": "text",
    "id": "oMrPpF8WuqJH"
   },
   "source": [
    "Now you can predict, you have to compute the error of each prediction. For that you have to implement the cost function. Recall the equation of the cost function :\n",
    "$$ J(W)=\\frac{1}{2m} \\sum_{i=1}^{m} (h_w(x^{(i)})-y^{(i)})^2$$"
   ]
  },
  {
   "cell_type": "markdown",
   "metadata": {
    "colab_type": "text",
    "id": "rFPG_dYrvo8y"
   },
   "source": [
    "Complete this function below with the above formula."
   ]
  },
  {
   "cell_type": "code",
   "execution_count": 11,
   "metadata": {
    "colab": {},
    "colab_type": "code",
    "id": "F_ybOJQcvvaW"
   },
   "outputs": [],
   "source": [
    "def ComputeCost(X, Y, W):\n",
    "  \"\"\" Compute cost for linear regression \n",
    "  INTPUT :\n",
    "    X shape(m,)\n",
    "    Y shape(m,)\n",
    "    W shape(n,)\n",
    "  OUTPUT :\n",
    "    J float\"\"\"\n",
    "\n",
    "  m = len(Y)\n",
    "\n",
    "  J = 0\n",
    "\n",
    "  ### Your code start here ###\n",
    "  for i in range(0, m):\n",
    "    J = J + np.square(hypothesis(X[i], W) - Y[i])\n",
    "\n",
    "  J = 1/(2*m) * J\n",
    "  ### Your code end here ###\n",
    "\n",
    "  return J\n"
   ]
  },
  {
   "cell_type": "code",
   "execution_count": 12,
   "metadata": {
    "colab": {
     "base_uri": "https://localhost:8080/",
     "height": 50
    },
    "colab_type": "code",
    "id": "SASE77h2qvNX",
    "outputId": "7eb2bd92-3e9e-4efc-ad84-9daa7704a6ef"
   },
   "outputs": [
    {
     "name": "stdout",
     "output_type": "stream",
     "text": [
      "With W = (1, 1)\n",
      "Cost Function = 10.266520491383503\n"
     ]
    }
   ],
   "source": [
    "W = (1, 1)\n",
    "print(\"With W = (1, 1)\\nCost Function = \" + str(ComputeCost(X, Y, W)))"
   ]
  },
  {
   "cell_type": "markdown",
   "metadata": {
    "colab_type": "text",
    "id": "P0Ku06ZZ3gqS"
   },
   "source": [
    "You should have this result :\n",
    "\n",
    "With W = (1, 1)\n",
    "\n",
    "Cost Function = 10.266520491383503"
   ]
  },
  {
   "cell_type": "markdown",
   "metadata": {
    "colab_type": "text",
    "id": "pWmAI1gI4fNP"
   },
   "source": [
    "You have the two main pieces of our linear regression. We can predict new output values and compute the error. We now have to implement the gradient descent algorithm to minimize the error and get the best model.  Recall the algorithm of gradient descent :\n",
    "\n",
    "$$ w_j := w_j  - \\alpha \\frac{1}{m} \\sum_{i=1}^{m} (h_w(x^{(i)})-y^{(i)})x_j^{(i)}$$ Simultaneously update $w_j$ for all j"
   ]
  },
  {
   "cell_type": "code",
   "execution_count": 13,
   "metadata": {
    "colab": {},
    "colab_type": "code",
    "id": "z7vOxc4K6CQN"
   },
   "outputs": [],
   "source": [
    "def gradientDescent(X, Y, W, alpha, num_iters):\n",
    "  \"\"\" GradientDescent compute gradient descent to learn best W.\n",
    "  To track the improvment of our cost we compute it at each iteration.\n",
    "  INPUT :\n",
    "    X          shape(m,)\n",
    "    Y          shape(m,)\n",
    "    W          shape(n,)\n",
    "    alpha      float\n",
    "    num_iters  integer\n",
    "  OUPUT :\n",
    "    W          shape(n,)\n",
    "    J_history  shape(num_iters,)\"\"\"\n",
    "  \n",
    "  m = len(Y)\n",
    "  J_history = np.zeros(num_iters)\n",
    "  \n",
    "  for iters in range(0, num_iters):\n",
    "    ### Your code start here ###\n",
    "    temp_0 = 0\n",
    "    temp_1 = 0\n",
    "  \n",
    "    for j in range(0, m):\n",
    "      temp_0 = temp_0 + (hypothesis(X[j], W) - Y[j])\n",
    "      temp_1 = temp_1 + (hypothesis(X[j], W) - Y[j]) * X[j]\n",
    "\n",
    "    W[0] = W[0] - alpha * 1/m * temp_0\n",
    "    W[1] = W[1] - alpha * 1/m * temp_1\n",
    "    ### Your code end here ###\n",
    "    J_history[iters] = ComputeCost(X, Y, W)\n",
    "    \n",
    "  return W, J_history"
   ]
  },
  {
   "cell_type": "code",
   "execution_count": 14,
   "metadata": {
    "colab": {
     "base_uri": "https://localhost:8080/",
     "height": 50
    },
    "colab_type": "code",
    "id": "y-9Mix9Vz8WE",
    "outputId": "35bf71b6-084d-46dd-bcf6-0434e1531759"
   },
   "outputs": [
    {
     "name": "stdout",
     "output_type": "stream",
     "text": [
      "Values of the parameters W after 2000 iterations of gradient descent :\n",
      "[-3.7880685727231103, 1.182212774757377]\n"
     ]
    }
   ],
   "source": [
    "W = [0, 0]\n",
    "alpha = 0.01\n",
    "iterations = 2000\n",
    "W, J_history = gradientDescent(X, Y, W, alpha, iterations)\n",
    "\n",
    "print(\"Values of the parameters W after 2000 iterations of gradient descent :\\n\"\n",
    "      + str(W))"
   ]
  },
  {
   "cell_type": "markdown",
   "metadata": {
    "colab_type": "text",
    "id": "mHrMET8CBkNY"
   },
   "source": [
    "Expected values :\n",
    "\n",
    "[-3.788, 1.182]"
   ]
  },
  {
   "cell_type": "code",
   "execution_count": 15,
   "metadata": {
    "colab": {
     "base_uri": "https://localhost:8080/",
     "height": 376
    },
    "colab_type": "code",
    "id": "UuiutTk9KSad",
    "outputId": "047d25dd-9e00-4f2a-8634-cdca426ea8ca"
   },
   "outputs": [
    {
     "data": {
      "image/png": "[encoded data removed]",
      "text/plain": [
       "<Figure size 432x288 with 1 Axes>"
      ]
     },
     "metadata": {
      "needs_background": "light"
     },
     "output_type": "display_data"
    }
   ],
   "source": [
    "plt.plot(J_history)\n",
    "plt.xlabel(\"Iterations\")\n",
    "plt.ylabel(\"J(W)\")\n",
    "plt.title(\"Evolution of the cost after each iterations of gradient descent\")\n",
    "plt.show()"
   ]
  },
  {
   "cell_type": "markdown",
   "metadata": {
    "colab_type": "text",
    "id": "PpoIkrWcJEd1"
   },
   "source": [
    "You have all the pieces to implement the trainning of our model. The training is the action to determine the weight in function of our example and find the global minima. "
   ]
  },
  {
   "cell_type": "code",
   "execution_count": 16,
   "metadata": {
    "colab": {},
    "colab_type": "code",
    "id": "XVwzsCNiJVQ0"
   },
   "outputs": [],
   "source": [
    "def lr_fit(X, Y, W, alpha, num_iters) :\n",
    "  \"\"\" lr_fit train our algorithm to find the best W for our prediction\n",
    "  INPUT :\n",
    "    X          shape(m,)\n",
    "    Y          shape(m,)\n",
    "    W          shape(n,)\n",
    "    alpha      float\n",
    "    num_iters  integer\n",
    "  OUPUT :\n",
    "    W          shape(n,)\"\"\"\n",
    "  \n",
    "  \n",
    "  W, _ = gradientDescent(X, Y, W, alpha, num_iters)\n",
    "  \n",
    "  return W"
   ]
  },
  {
   "cell_type": "code",
   "execution_count": 17,
   "metadata": {
    "colab": {
     "base_uri": "https://localhost:8080/",
     "height": 50
    },
    "colab_type": "code",
    "id": "JWeS3-ADLGn5",
    "outputId": "93032c6e-7205-44f0-c155-8b7b5e4f897f"
   },
   "outputs": [
    {
     "name": "stdout",
     "output_type": "stream",
     "text": [
      "Values of the parameters W after 2000 iterations of gradient descent :\n",
      "[-3.7880685727231103, 1.182212774757377]\n"
     ]
    }
   ],
   "source": [
    "W = [0, 0]\n",
    "alpha = 0.01\n",
    "iterations = 2000\n",
    "W = lr_fit(X, Y, W, alpha, iterations)\n",
    "\n",
    "print(\"Values of the parameters W after 2000 iterations of gradient descent :\\n\"\n",
    "      + str(W))"
   ]
  },
  {
   "cell_type": "markdown",
   "metadata": {
    "colab_type": "text",
    "id": "p2aMd3R1MqRq"
   },
   "source": [
    "Expected values :\n",
    "\n",
    "[-3.788, 1.182]"
   ]
  },
  {
   "cell_type": "markdown",
   "metadata": {
    "colab_type": "text",
    "id": "4oAjtw_RMtQ_"
   },
   "source": [
    "You already implement a function which with a x and W give your the prediction, now you will implement a function which given a vector X and W all the prediction for each one of the X."
   ]
  },
  {
   "cell_type": "code",
   "execution_count": 18,
   "metadata": {
    "colab": {},
    "colab_type": "code",
    "id": "xN26cI-lNdZA"
   },
   "outputs": [],
   "source": [
    "def lr_predict(X, W) :\n",
    "  \"\"\" lr_predict make prediction for each observations of X\n",
    "  INPUT :\n",
    "    X          shape(m,)\n",
    "    W          shape(n,)\n",
    "  OUPUT :\n",
    "    h          shape(n,)\"\"\"\n",
    "  m = len(X)\n",
    "  \n",
    "  h = np.zeros(m)\n",
    "\n",
    "  for i in range(m) :\n",
    "    h[i] = hypothesis(X[i], W)\n",
    "               \n",
    "  return h"
   ]
  },
  {
   "cell_type": "markdown",
   "metadata": {
    "colab_type": "text",
    "id": "eQIsVJz3BF9W"
   },
   "source": [
    "You can see your linear boundary in red on the plot below. It's with this function you use to predict new values."
   ]
  },
  {
   "cell_type": "code",
   "execution_count": 19,
   "metadata": {
    "colab": {
     "base_uri": "https://localhost:8080/",
     "height": 398
    },
    "colab_type": "code",
    "id": "T-azJXIvBTfl",
    "outputId": "8ebc0b0d-a7fc-453c-de41-2bc3eb244b38"
   },
   "outputs": [
    {
     "data": {
      "image/png": "[encoded data removed]",
      "text/plain": [
       "<Figure size 432x288 with 1 Axes>"
      ]
     },
     "metadata": {
      "needs_background": "light"
     },
     "output_type": "display_data"
    }
   ],
   "source": [
    "W = [0, 0]\n",
    "alpha = 0.01\n",
    "iterations = 2000\n",
    "\n",
    "W = lr_fit(X, Y, W, alpha, iterations)\n",
    "\n",
    "x_lr = list(np.arange(4.5, 24))\n",
    "y_lr = lr_predict(x_lr, W)  \n",
    "plt.plot(x_lr, y_lr, c='red')\n",
    "\n",
    "plt.scatter(X, Y)\n",
    "\n",
    "plt.title('Scatter plot of training data', size='xx-large')\n",
    "plt.xlabel('Population of City in 10.000s')\n",
    "plt.ylabel('Profit in $10.000s')\n",
    "\n",
    "plt.show()\n"
   ]
  },
  {
   "cell_type": "markdown",
   "metadata": {
    "colab_type": "text",
    "id": "qRMWO2_kC2qh"
   },
   "source": [
    "### 3.2 Multivariate linear regression"
   ]
  },
  {
   "cell_type": "markdown",
   "metadata": {
    "colab_type": "text",
    "id": "07qn1iexFqWJ"
   },
   "source": [
    "For this exercice suppose you are selling your house and you want to know what a good market price would be. One way to do this is to first collect information on recent houses sold and make a model  of houses prices.\n",
    "\n",
    "**!!!   In this part all you algorithm must be vectorize.   !!!**"
   ]
  },
  {
   "cell_type": "markdown",
   "metadata": {
    "colab_type": "text",
    "id": "LND_Oxe7hrIz"
   },
   "source": [
    "Let's import 'multivariate_regression.txt'"
   ]
  },
  {
   "cell_type": "code",
   "execution_count": 0,
   "metadata": {
    "colab": {
     "base_uri": "https://localhost:8080/",
     "height": 90,
     "resources": {
      "http://localhost:8080/nbextensions/google.colab/files.js": {
       "data": "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",
       "headers": [
        [
         "content-type",
         "application/javascript"
        ]
       ],
       "ok": true,
       "status": 200,
       "status_text": ""
      }
     }
    },
    "colab_type": "code",
    "id": "VBx4uVQ9BE6w",
    "outputId": "5c1aaf4e-c03c-47b1-e3ec-efe4e388f3f5"
   },
   "outputs": [
    {
     "data": {
      "text/html": [
       "\n",
       "     <input type=\"file\" id=\"files-4957f8cb-fa01-46cb-b249-569b7ad76970\" name=\"files[]\" multiple disabled />\n",
       "     <output id=\"result-4957f8cb-fa01-46cb-b249-569b7ad76970\">\n",
       "      Upload widget is only available when the cell has been executed in the\n",
       "      current browser session. Please rerun this cell to enable.\n",
       "      </output>\n",
       "      <script src=\"/nbextensions/google.colab/files.js\"></script> "
      ],
      "text/plain": [
       "<IPython.core.display.HTML object>"
      ]
     },
     "metadata": {
      "tags": []
     },
     "output_type": "display_data"
    },
    {
     "name": "stdout",
     "output_type": "stream",
     "text": [
      "Saving multivariate_regression.txt to multivariate_regression.txt\n",
      "User uploaded file \"multivariate_regression.txt\" with length 657 bytes\n"
     ]
    }
   ],
   "source": [
    "from google.colab import files\n",
    "\n",
    "uploaded = files.upload()\n",
    "\n",
    "for fn in uploaded.keys():\n",
    "  print('User uploaded file \"{name}\" with length {length} bytes'.format(\n",
    "      name=fn, length=len(uploaded[fn])))"
   ]
  },
  {
   "cell_type": "markdown",
   "metadata": {
    "colab_type": "text",
    "id": "THQ5lLltGLZ_"
   },
   "source": [
    "In this dataset, the first column is the size of the house (in square feet), the second column is the number of bedrooms, and the third column is the price of the house."
   ]
  },
  {
   "cell_type": "code",
   "execution_count": 20,
   "metadata": {
    "colab": {},
    "colab_type": "code",
    "id": "etVL61j9DMvt"
   },
   "outputs": [],
   "source": [
    "# Creation of the dataset\n",
    "multivariate_regression = np.genfromtxt('data/multivariate_regression.txt', delimiter=',')\n",
    "\n",
    "m, _ = multivariate_regression.shape\n",
    "\n",
    "#X = np.stack(multivariate_regression[:, :2], axis=1)\n",
    "X = multivariate_regression[:, :2] \n",
    "Y = multivariate_regression[:, 2].reshape((1, m))\n",
    "\n",
    "# Standardisation of the features\n",
    "X = (X - np.mean(X, axis=0)) / np.std(X, axis=0)\n",
    "X_1 = np.stack(np.hstack((np.ones(m).reshape(m, 1), X)), axis=1)"
   ]
  },
  {
   "cell_type": "markdown",
   "metadata": {
    "colab_type": "text",
    "id": "8NpByzfLHn6V"
   },
   "source": [
    "Like the last part we start by the hypothesis function. Remind you that our prediction looks like that :"
   ]
  },
  {
   "cell_type": "markdown",
   "metadata": {
    "colab_type": "text",
    "id": "GnWNPVjkHfcC"
   },
   "source": [
    "$$h(X) = W^TX$$\n"
   ]
  },
  {
   "cell_type": "markdown",
   "metadata": {
    "colab_type": "text",
    "id": "-rvo-i0hXZ0j"
   },
   "source": [
    "The result is the same but it's more convenient to have dataframe with examples 'm' in rows and features 'n' in columns."
   ]
  },
  {
   "cell_type": "code",
   "execution_count": 21,
   "metadata": {
    "colab": {},
    "colab_type": "code",
    "id": "W14vnuK_G7h0"
   },
   "outputs": [],
   "source": [
    "def predict(X, W):\n",
    "  \"\"\" Predict our h(x) in function of their features \n",
    "  INPUT :\n",
    "    X shape(n, m)\n",
    "    W shape(n, 1)\n",
    "  OUTPUT :\n",
    "    h shape(1, m)\"\"\"\n",
    "### Your code start here ###\n",
    "  return np.dot(W.T, X)\n",
    "### Your code end here ###"
   ]
  },
  {
   "cell_type": "code",
   "execution_count": 22,
   "metadata": {
    "colab": {
     "base_uri": "https://localhost:8080/",
     "height": 67
    },
    "colab_type": "code",
    "id": "xPIp4eRoI1D9",
    "outputId": "fa232fb6-c556-4d9e-ba0c-af1482400883"
   },
   "outputs": [
    {
     "name": "stdout",
     "output_type": "stream",
     "text": [
      "X = [ 1.         -0.5096407  -0.22609337]\n",
      "W = [1 1 1]\n",
      "h(X) = [0.26426593]\n"
     ]
    }
   ],
   "source": [
    "W = np.array((1, 1, 1)).reshape(3, 1)\n",
    "\n",
    "print(\"X = \" + str(X_1[:, 1]) + \"\\nW = \"+str(np.squeeze(W))+\"\\nh(X) = \" + str(predict(X_1[:, 1], W)))"
   ]
  },
  {
   "cell_type": "markdown",
   "metadata": {
    "colab_type": "text",
    "id": "0wkvYxTaI0xh"
   },
   "source": [
    "Expected values :\n",
    "\n",
    "X = [ 1.         -0.5096407  -0.22609337]\n",
    "\n",
    "W = [1, 1, 1]\n",
    "\n",
    "h(X) = 0.26"
   ]
  },
  {
   "cell_type": "markdown",
   "metadata": {
    "colab_type": "text",
    "id": "Xj_gqcQBHeQf"
   },
   "source": [
    "Now you can predict new observations, you have to compute the error of each prediction. For that, you have to implement the cost function. \n",
    "\n",
    "Remind you the equation of the cost function :\n",
    "$$ J(W)=\\frac{1}{2m} (h(X)-Y)(h(X)-Y)^T$$"
   ]
  },
  {
   "cell_type": "code",
   "execution_count": 23,
   "metadata": {
    "colab": {},
    "colab_type": "code",
    "id": "ruLHcgiRoIEr"
   },
   "outputs": [],
   "source": [
    "def ComputeCost(X, W, Y):\n",
    "  \"\"\" Compute cost for linear regression \n",
    "  INPUT :\n",
    "    X shape(n, m)\n",
    "    W shape(n, 1)\n",
    "    Y shape(1, m)\n",
    "  OUTPUT :\n",
    "    J float\"\"\"\n",
    "\n",
    "  _, m = X.shape\n",
    "\n",
    "  J = 0\n",
    "\n",
    "### Your code start here ###\n",
    "\n",
    "  J = 1/(2*m) * np.dot((predict(X, W)-Y), (predict(X, W)-Y).T)\n",
    "  \n",
    "### Your code end here ###\n",
    "\n",
    "  return J\n"
   ]
  },
  {
   "cell_type": "code",
   "execution_count": 24,
   "metadata": {
    "colab": {
     "base_uri": "https://localhost:8080/",
     "height": 50
    },
    "colab_type": "code",
    "id": "ZIq0JuK1o08n",
    "outputId": "caabc2c2-fa25-405e-b8ec-a0a2bec7dfde"
   },
   "outputs": [
    {
     "name": "stdout",
     "output_type": "stream",
     "text": [
      "With W = [1 1 1]\n",
      "Cost Function = 65591047222.90259\n"
     ]
    }
   ],
   "source": [
    "W = np.array((1,1,1)).reshape(3, 1)\n",
    "\n",
    "print(\"With W = \"+str(np.squeeze(W))+\"\\nCost Function = \" + str(np.squeeze(ComputeCost(X_1, W, Y))))"
   ]
  },
  {
   "cell_type": "markdown",
   "metadata": {
    "colab_type": "text",
    "id": "Bl8-gbsDo41J"
   },
   "source": [
    "You should have this result :\n",
    "\n",
    "With W = [1, 1, 1]\n",
    "\n",
    "Cost Function = 65591047222.90259"
   ]
  },
  {
   "cell_type": "markdown",
   "metadata": {
    "colab_type": "text",
    "id": "1fbcsFJuwLBH"
   },
   "source": [
    "You have the two main pieces of our linear regression. We can predict new output values and compute the error. We know have to implement the gradient descent algorithm to minimize the error and get the best model.  \n",
    "\n",
    "Remind you the algorithm of gradient descent :\n",
    "\n",
    "$$ W := W - \\frac{\\alpha}{m}X (h(X)-Y)^T $$"
   ]
  },
  {
   "cell_type": "code",
   "execution_count": 25,
   "metadata": {
    "colab": {},
    "colab_type": "code",
    "id": "qLFht0Lbttca"
   },
   "outputs": [],
   "source": [
    "def gradientDescent(X, W, Y, alpha, num_iters):\n",
    "  \"\"\" gradientDescent compute gradient descent to learn best W\n",
    "  INPUT :\n",
    "    X           shape(n, m)\n",
    "    W           shape(n, 1)\n",
    "    Y           shape(1, m)\n",
    "    alpha       float\n",
    "    num_iters   integer\n",
    "  OUTPUT :\n",
    "    W           shape(n, 1)\n",
    "    J_history   shape(num_iters,)\"\"\"\n",
    "  \n",
    "  _, m = X.shape\n",
    "  J_history = np.zeros(num_iters)\n",
    "  \n",
    "  for i in range(0, num_iters):\n",
    "    \n",
    "    ### Your code start here ###\n",
    "    gradient = (alpha/m) * np.dot(X, (predict(X, W)-Y).T)\n",
    "    W = W - gradient\n",
    "    ### Your code end here ###\n",
    "    \n",
    "    J_history[i] = ComputeCost(X, W, Y)\n",
    "    \n",
    "  return W, J_history"
   ]
  },
  {
   "cell_type": "code",
   "execution_count": 26,
   "metadata": {
    "colab": {
     "base_uri": "https://localhost:8080/",
     "height": 84
    },
    "colab_type": "code",
    "id": "0xJQM-eTOzg9",
    "outputId": "545ee01d-a168-4e75-f780-ab0be82a5634",
    "scrolled": true
   },
   "outputs": [
    {
     "name": "stdout",
     "output_type": "stream",
     "text": [
      "Values of the parameters W after 200 iterations of gradient descent :\n",
      "[[294804.28212715]\n",
      " [ 83217.03697925]\n",
      " [ 15220.03137818]]\n"
     ]
    }
   ],
   "source": [
    "W = np.array((0, 0, 0)).reshape((3,1))\n",
    "alpha = 0.01\n",
    "iterations = 200\n",
    "W, J_history = gradientDescent(X_1, W, Y, alpha, iterations)\n",
    "print(\"Values of the parameters W after \" + str(iterations) +  \\\n",
    "      \" iterations of gradient descent :\\n\" + str(W))"
   ]
  },
  {
   "cell_type": "markdown",
   "metadata": {
    "colab_type": "text",
    "id": "4Vgnvh9iPDr3"
   },
   "source": [
    "Expected values : \n",
    "\n",
    "[[294804.28212715]\n",
    "\n",
    " [ 83217.03697925]\n",
    " \n",
    " [ 15220.03137818]]"
   ]
  },
  {
   "cell_type": "markdown",
   "metadata": {
    "colab_type": "text",
    "id": "kqot20wiSGh4"
   },
   "source": [
    "You can visualize your cost function minimization with this graph. It can be helpful to see if you have a correct learning rate or if you have enough iterations."
   ]
  },
  {
   "cell_type": "code",
   "execution_count": 27,
   "metadata": {
    "colab": {
     "base_uri": "https://localhost:8080/",
     "height": 376
    },
    "colab_type": "code",
    "id": "Ckn-hJhSNIar",
    "outputId": "1bb0699d-43df-4e96-be9d-09edabf34514"
   },
   "outputs": [
    {
     "data": {
      "image/png": "[encoded data removed]",
      "text/plain": [
       "<Figure size 432x288 with 1 Axes>"
      ]
     },
     "metadata": {
      "needs_background": "light"
     },
     "output_type": "display_data"
    }
   ],
   "source": [
    "plt.plot(J_history)\n",
    "plt.xlabel(\"Iterations\")\n",
    "plt.ylabel(\"J(W)\")\n",
    "plt.title(\"Minimization of the cost function after each iterations\")\n",
    "plt.show()"
   ]
  },
  {
   "cell_type": "markdown",
   "metadata": {
    "colab_type": "text",
    "id": "XgkAz9TYSD3f"
   },
   "source": [
    "You have all the pieces to implement the trainning of our model. The training is the action to determine the weight in function of our example and find the global minima."
   ]
  },
  {
   "cell_type": "code",
   "execution_count": 28,
   "metadata": {
    "colab": {},
    "colab_type": "code",
    "id": "hm3ZBUdER-4S"
   },
   "outputs": [],
   "source": [
    "def lr_fit(X, W, Y, alpha, num_iters) :\n",
    "  \"\"\" lr_fit train our algorithm to find the best W for our prediction\n",
    "  INPUT :\n",
    "    X          shape(m, n-1)\n",
    "    W          shape(n, 1)\n",
    "    Y          shape(1, m)\n",
    "    alpha      float\n",
    "    num_iters  integer\n",
    "  OUPUT :\n",
    "    W          shape(n, 1)\n",
    "    J_history   shape(num_iters,)\"\"\"\n",
    "  \n",
    "  m, _ = X.shape\n",
    "  \n",
    "  X_1 = np.stack(np.hstack((np.ones(m).reshape(m, 1), X)), axis=1)\n",
    "  \n",
    "  W, J_history = gradientDescent(X_1, W, Y, alpha, num_iters)\n",
    "  \n",
    "  return W, J_history"
   ]
  },
  {
   "cell_type": "code",
   "execution_count": 29,
   "metadata": {
    "colab": {
     "base_uri": "https://localhost:8080/",
     "height": 84
    },
    "colab_type": "code",
    "id": "3fDcL35iU95u",
    "outputId": "dc1caf2a-103d-4e50-ee95-7ef61b4e571b"
   },
   "outputs": [
    {
     "name": "stdout",
     "output_type": "stream",
     "text": [
      "Values of the parameters W after 2000 iterations of gradient descent :\n",
      "[[294804.28212715]\n",
      " [ 83217.03697925]\n",
      " [ 15220.03137818]]\n"
     ]
    }
   ],
   "source": [
    "W = np.array([0, 0, 0]).reshape(3, 1)\n",
    "alpha = 0.01\n",
    "iterations = 200\n",
    "W, _ = lr_fit(X, W, Y, alpha, iterations)\n",
    "\n",
    "print(\"Values of the parameters W after 2000 iterations of gradient descent :\\n\"\n",
    "      + str(W))"
   ]
  },
  {
   "cell_type": "markdown",
   "metadata": {
    "colab_type": "text",
    "id": "awgYR26DVal-"
   },
   "source": [
    "Expected values : \n",
    "\n",
    "[[294804.28212715]\n",
    "\n",
    " [ 83217.03697925]\n",
    " \n",
    " [ 15220.03137818]"
   ]
  },
  {
   "cell_type": "code",
   "execution_count": 30,
   "metadata": {
    "colab": {},
    "colab_type": "code",
    "id": "406sSKsTys2B"
   },
   "outputs": [],
   "source": [
    "iterations = 200\n",
    "\n",
    "alpha = [0.3, 0.1, 0.003, 0.001]\n",
    "\n",
    "J_history = np.zeros((iterations, len(alpha)))\n",
    "\n",
    "for i in range(0, len(alpha)) :\n",
    "  \n",
    "  W = np.array((0, 0, 0)).reshape((3,1))\n",
    "\n",
    "  W, J_history[:, i] = lr_fit(X, W, Y, alpha[i], iterations)"
   ]
  },
  {
   "cell_type": "code",
   "execution_count": 40,
   "metadata": {
    "colab": {
     "base_uri": "https://localhost:8080/",
     "height": 382
    },
    "colab_type": "code",
    "id": "sFas-xtGBtE6",
    "outputId": "74fa8488-8cae-45b8-c50a-c706eb14bd34"
   },
   "outputs": [
    {
     "data": {
      "image/png": "[encoded data removed]",
      "text/plain": [
       "<Figure size 432x288 with 1 Axes>"
      ]
     },
     "metadata": {
      "needs_background": "light"
     },
     "output_type": "display_data"
    }
   ],
   "source": [
    "fig, ax = plt.subplots()\n",
    "\n",
    "plt.plot(J_history[:, 0], label=\"alpha = 0.3\")\n",
    "plt.plot(J_history[:, 1], label=\"alpha = 0.1\")\n",
    "plt.plot(J_history[:, 2], label=\"alpha = 0.03\")\n",
    "plt.plot(J_history[:, 3], label=\"alpha = 0.01\")\n",
    "\n",
    "plt.title('Training with different learning rate', size='xx-large')\n",
    "plt.xlabel(\"Iterations\")\n",
    "plt.ylabel(\"J(W)\")\n",
    "ax.legend(loc='upper right')\n",
    "plt.show()"
   ]
  },
  {
   "cell_type": "markdown",
   "metadata": {
    "colab_type": "text",
    "id": "QIcc157dVvLB"
   },
   "source": [
    "Like I said before this kind of graphic can help you to take a great learning rate and a great number of iterations. When alpha equal 0.01 you can see that our cost function has not yet reach it's minimum, you can increase the learning rate to get quicker the best parameters."
   ]
  },
  {
   "cell_type": "markdown",
   "metadata": {
    "colab_type": "text",
    "id": "WuxPajkyWdTI"
   },
   "source": [
    "## 3. Logistic regression"
   ]
  },
  {
   "cell_type": "markdown",
   "metadata": {
    "colab_type": "text",
    "id": "_ftvWsdPWeqh"
   },
   "source": [
    "In this part of the exercise, you will build a logistic regression model to predict whether a student gets admitted into a university. \n",
    "\n",
    "Suppose that you are the administrator of a university department and you want to determine each applicant’s chance of admission based on their results on two exams. You have historical data from previous applicants that you can use as a training set for logistic regression. For each training example, you have the applicant’s scores on two exams and the admissions decision. \n",
    "\n",
    "Your mission if you choose to accept it, is to build a classiﬁcation model that estimates an applicant’s probability of admission based the scores from those two exams.\n",
    "\n",
    "**!!! Be careful, all implementations must use vectorization !!!**"
   ]
  },
  {
   "cell_type": "markdown",
   "metadata": {
    "colab_type": "text",
    "id": "f2f-paM3hwJe"
   },
   "source": [
    "Let's import 'logistic_regression.txt'"
   ]
  },
  {
   "cell_type": "code",
   "execution_count": null,
   "metadata": {
    "colab": {
     "base_uri": "https://localhost:8080/",
     "height": 90,
     "resources": {
      "http://localhost:8080/nbextensions/google.colab/files.js": {
       "data": "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",
       "headers": [
        [
         "content-type",
         "application/javascript"
        ]
       ],
       "ok": true,
       "status": 200,
       "status_text": ""
      }
     }
    },
    "colab_type": "code",
    "id": "faA19lFmv21a",
    "outputId": "2dffe5da-cbab-44be-f91f-2f2a29ec7c4f"
   },
   "outputs": [],
   "source": [
    "from google.colab import files\n",
    "\n",
    "uploaded = files.upload()\n",
    "\n",
    "for fn in uploaded.keys():\n",
    "  print('User uploaded file \"{name}\" with length {length} bytes'.format(\n",
    "      name=fn, length=len(uploaded[fn])))"
   ]
  },
  {
   "cell_type": "code",
   "execution_count": 41,
   "metadata": {
    "colab": {},
    "colab_type": "code",
    "id": "4t_JIFhAx6Ik"
   },
   "outputs": [],
   "source": [
    "logistic_regression = np.genfromtxt('data/logistic_regression.txt', delimiter=',')"
   ]
  },
  {
   "cell_type": "markdown",
   "metadata": {
    "colab_type": "text",
    "id": "lX3ch8CLNuIM"
   },
   "source": [
    "Before starting to implement any learning algorithm, it is always good to visualize the data if possible. "
   ]
  },
  {
   "cell_type": "code",
   "execution_count": 42,
   "metadata": {
    "colab": {
     "base_uri": "https://localhost:8080/",
     "height": 382
    },
    "colab_type": "code",
    "id": "M9tA4TR8vX82",
    "outputId": "85c9ad1a-1385-4f93-f8cc-e7bdca773d4d"
   },
   "outputs": [
    {
     "data": {
      "image/png": "[encoded data removed]",
      "text/plain": [
       "<Figure size 432x288 with 1 Axes>"
      ]
     },
     "metadata": {
      "needs_background": "light"
     },
     "output_type": "display_data"
    }
   ],
   "source": [
    "fig, ax = plt.subplots()\n",
    "\n",
    "plt.scatter(logistic_regression[logistic_regression[:, 2]==0, 0], logistic_regression[logistic_regression[:, 2]==0, 1], label='Admitted')\n",
    "plt.scatter(logistic_regression[logistic_regression[:, 2]==1, 0], logistic_regression[logistic_regression[:, 2]==1, 1], label='Not admitted', marker='v')\n",
    "\n",
    "plt.title('Scatter plot of training data', size='xx-large')\n",
    "plt.xlabel('Exam 1 score')\n",
    "plt.ylabel('Exam 2 score')\n",
    "\n",
    "ax.legend()\n",
    "plt.show()"
   ]
  },
  {
   "cell_type": "markdown",
   "metadata": {
    "colab_type": "text",
    "id": "xwI9Oq9pOF5g"
   },
   "source": [
    "The data are plot where the axes are the two exam scores, and the positive and negative examples are shown with diﬀerent markers and colours."
   ]
  },
  {
   "cell_type": "code",
   "execution_count": 43,
   "metadata": {
    "colab": {},
    "colab_type": "code",
    "id": "5gxz4O3Ay1OG"
   },
   "outputs": [],
   "source": [
    "m, n = logistic_regression[:, :2].shape\n",
    "X = logistic_regression[:, :2]\n",
    "X_1 = np.stack(np.hstack((np.ones(m).reshape(m, 1), X)), axis=1)\n",
    "Y = logistic_regression[:, 2].reshape(1, m)"
   ]
  },
  {
   "cell_type": "markdown",
   "metadata": {
    "colab_type": "text",
    "id": "3JguaSeXPc_n"
   },
   "source": [
    "You start by implement the sigmoid function :\n",
    "$$ g(z) = \\frac{1}{1+e^{-z}}$$"
   ]
  },
  {
   "cell_type": "code",
   "execution_count": 44,
   "metadata": {
    "colab": {},
    "colab_type": "code",
    "id": "MdSfIclCPYqC"
   },
   "outputs": [],
   "source": [
    "def sigmoid(z):\n",
    "  \"\"\" Apply sigmoid function to a number\n",
    "  INPUT :\n",
    "    z shape(1, m)\n",
    "  OUTPUT :\n",
    "    g(z) shape(1, m)\"\"\"\n",
    "  ### Your code start here ###\n",
    "  return 1/(1+np.exp(-z))\n",
    "  ### Your code start here ###"
   ]
  },
  {
   "cell_type": "code",
   "execution_count": 45,
   "metadata": {
    "colab": {
     "base_uri": "https://localhost:8080/",
     "height": 347
    },
    "colab_type": "code",
    "id": "qwui1XXDTEP1",
    "outputId": "0dedaee9-f40b-42c1-c6a7-ad65c84984b5"
   },
   "outputs": [
    {
     "data": {
      "image/png": "[encoded data removed]",
      "text/plain": [
       "<Figure size 432x288 with 1 Axes>"
      ]
     },
     "metadata": {
      "needs_background": "light"
     },
     "output_type": "display_data"
    }
   ],
   "source": [
    "x = np.array(range(-10, 10))\n",
    "y = sigmoid(x)\n",
    "\n",
    "plt.plot(x, y)\n",
    "\n",
    "plt.show()"
   ]
  },
  {
   "cell_type": "markdown",
   "metadata": {
    "colab_type": "text",
    "id": "VQZb9549TNAt"
   },
   "source": [
    "If you have a good implementation you will see the same figure than the one in the course."
   ]
  },
  {
   "cell_type": "markdown",
   "metadata": {
    "colab_type": "text",
    "id": "xTgRglr1Q2RC"
   },
   "source": [
    "You now use your sigmoid function to construct your predict in a vectorize way.\n",
    "\n",
    "$$ h(X) = g(W^TX)$$"
   ]
  },
  {
   "cell_type": "markdown",
   "metadata": {
    "colab_type": "text",
    "id": "e2l1e91EarHL"
   },
   "source": [
    "The result is the same but it's more convenient to have dataframe with examples 'm' in rows and features 'n' in columns."
   ]
  },
  {
   "cell_type": "code",
   "execution_count": 46,
   "metadata": {
    "colab": {},
    "colab_type": "code",
    "id": "zkehnEvNRi8M"
   },
   "outputs": [],
   "source": [
    "def predict(X, W):\n",
    "  \"\"\" This function makes predictions by linearly combining W and X. \n",
    "     Sigmoid is apply to born the output between [0, 1]\n",
    "     INPUT : \n",
    "        X shape(n, m)\n",
    "        W shape(n, 1)\n",
    "     OUTPUT :  \n",
    "        h shape(1, m)\"\"\"\n",
    "  \n",
    "  ### Your code start here ###\n",
    "  return sigmoid(np.dot(W.T, X))\n",
    "  ### Your code start here ###"
   ]
  },
  {
   "cell_type": "code",
   "execution_count": 47,
   "metadata": {
    "colab": {
     "base_uri": "https://localhost:8080/",
     "height": 101
    },
    "colab_type": "code",
    "id": "zhzBAIB_UqB3",
    "outputId": "12d39b58-2bfe-4bba-8a5a-c40459a7b869"
   },
   "outputs": [
    {
     "name": "stdout",
     "output_type": "stream",
     "text": [
      "[[1.86892535e-01 1.04767902e-04 9.53426817e-02 9.95024445e-01\n",
      "  9.98968205e-01]]\n"
     ]
    }
   ],
   "source": [
    "W = np.array((-24, 0.2, 0.2)).reshape(3, 1)\n",
    "\n",
    "h_5 = predict(X_1[:, :5], W)\n",
    "print(h_5)"
   ]
  },
  {
   "cell_type": "markdown",
   "metadata": {
    "colab_type": "text",
    "id": "hbHQGURpbKOs"
   },
   "source": [
    "Expected values :\n",
    "\n",
    "[0.187, 0.000105, 0.0953, 0.995, 0.999]"
   ]
  },
  {
   "cell_type": "markdown",
   "metadata": {
    "colab_type": "text",
    "id": "BO7mvsgxcJhI"
   },
   "source": [
    "Your are now ready to implement you cost function :\n",
    "$$ J(W)= -\\frac{1}{m}\\sum^{N}_{i=1}y_i \\log{(h(x^{(i)}))}+(1-y_i)\\log{(1-h(x^{(i)}))}$$"
   ]
  },
  {
   "cell_type": "code",
   "execution_count": 48,
   "metadata": {
    "colab": {},
    "colab_type": "code",
    "id": "owV755ndYZhY"
   },
   "outputs": [],
   "source": [
    "def computeCost(X, W, Y) :\n",
    "  \"\"\" Compute the cost for the W parameters\n",
    "  INPUT : \n",
    "    X shape(n, m)\n",
    "    W shape(n, 1)\n",
    "    Y shape(1, m)\n",
    "  OUTPUT : \n",
    "    J float\"\"\"\n",
    "  \n",
    "  ### Your code start here ###\n",
    "  return -(1/m) * np.sum(Y * np.log(predict(X, W))+ (1-Y) * np.log(1-predict(X, W)))\n",
    "  ### Your code start here ###"
   ]
  },
  {
   "cell_type": "code",
   "execution_count": 49,
   "metadata": {
    "colab": {
     "base_uri": "https://localhost:8080/",
     "height": 50
    },
    "colab_type": "code",
    "id": "hBfWD9_9e13l",
    "outputId": "34530c0a-54f6-4a94-ebc4-95367acd3a42"
   },
   "outputs": [
    {
     "name": "stdout",
     "output_type": "stream",
     "text": [
      "With W = [-24.    0.2   0.2]\n",
      "Cost Function = 0.21833019382659785\n"
     ]
    }
   ],
   "source": [
    "W = np.array((-24, 0.2, 0.2)).reshape(3, 1)\n",
    "\n",
    "J = computeCost(X_1, W, Y)\n",
    "\n",
    "print(\"With W = \"+str(np.squeeze(W))+\"\\nCost Function = \" +str(np.squeeze(J)))"
   ]
  },
  {
   "cell_type": "markdown",
   "metadata": {
    "colab_type": "text",
    "id": "aX0tmS53fv4G"
   },
   "source": [
    "Expected cost  :  0.218"
   ]
  },
  {
   "cell_type": "markdown",
   "metadata": {
    "colab_type": "text",
    "id": "ZXES5hv3xZyM"
   },
   "source": [
    "The goal now we can compute the cost is to minimize it with gradient descent :\n",
    "\n",
    "$$ W := W - \\frac{\\alpha}{m}X (h(X)-Y)^T $$"
   ]
  },
  {
   "cell_type": "code",
   "execution_count": 50,
   "metadata": {
    "colab": {},
    "colab_type": "code",
    "id": "3PaDK2QOzSGr"
   },
   "outputs": [],
   "source": [
    "def gradientDescent(X, W, Y, alpha, num_iters):\n",
    "  \"\"\" gradientDescent updates W by taking num_iters\n",
    "  gradient steps with learning rate alpha \n",
    "  INPUT :\n",
    "    X         shape(n, m)\n",
    "    W         shape(n, 1)\n",
    "    Y         shape(1, m)\n",
    "    alpha     float\n",
    "    num_iters integer\n",
    "  OUTPUT :\n",
    "    W         shape(n, 1)\n",
    "    J_history shape(num_iters,)\"\"\"\n",
    "  \n",
    "  _, m = X.shape\n",
    "  \n",
    "  J_history = np.zeros(num_iters)\n",
    "  \n",
    "  for i in range(0, num_iters):\n",
    "    \n",
    "    ### Your code start here ###\n",
    "    gradient = (alpha/m) * np.dot(X, (predict(X, W)-Y).T)\n",
    "    W = W - gradient\n",
    "    ### Your code end here ###\n",
    "    \n",
    "    J_history[i] = computeCost(X, W, Y)\n",
    "    \n",
    "  return W, J_history"
   ]
  },
  {
   "cell_type": "code",
   "execution_count": 51,
   "metadata": {
    "colab": {
     "base_uri": "https://localhost:8080/",
     "height": 101
    },
    "colab_type": "code",
    "id": "kYum5y5fzesL",
    "outputId": "332b4778-825e-4baa-9e17-6154798344a9"
   },
   "outputs": [
    {
     "name": "stdout",
     "output_type": "stream",
     "text": [
      "Values of the parameters W after 20 iterations of gradient descent :\n",
      "[[-24.00009633]\n",
      " [  0.19572811]\n",
      " [  0.19333813]]\n",
      "Values of the cost function : 0.20376092366465032\n"
     ]
    }
   ],
   "source": [
    "W = np.array((-24, 0.2, 0.2)).reshape((3,1))\n",
    "alpha = 0.001\n",
    "iterations = 20\n",
    "\n",
    "W, J_history = gradientDescent(X_1, W, Y, alpha, iterations)\n",
    "\n",
    "print(\"Values of the parameters W after \" + str(iterations) +  \\\n",
    "      \" iterations of gradient descent :\\n\" + str(W))\n",
    "print(\"Values of the cost function : \" +str(J_history[iterations-1]))"
   ]
  },
  {
   "cell_type": "markdown",
   "metadata": {
    "colab_type": "text",
    "id": "xv1EQ_pq8eEt"
   },
   "source": [
    "Expected parameters values : \n",
    "\n",
    "[[-24.00\n",
    " [  0.20]\n",
    " [  0.19]]\n",
    " \n",
    " Expected cost values : \n",
    " \n",
    " 0.20"
   ]
  },
  {
   "cell_type": "code",
   "execution_count": 52,
   "metadata": {
    "colab": {
     "base_uri": "https://localhost:8080/",
     "height": 376
    },
    "colab_type": "code",
    "id": "K1Urouulz3KO",
    "outputId": "2b78d448-8063-46b0-89e1-16417d2c6744"
   },
   "outputs": [
    {
     "data": {
      "image/png": "[encoded data removed]",
      "text/plain": [
       "<Figure size 432x288 with 1 Axes>"
      ]
     },
     "metadata": {
      "needs_background": "light"
     },
     "output_type": "display_data"
    }
   ],
   "source": [
    "plt.plot(J_history)\n",
    "plt.xlabel(\"Iterations\")\n",
    "plt.ylabel(\"J(W)\")\n",
    "plt.title(\"Minimization of the cost function after each iterations\")\n",
    "plt.show()"
   ]
  },
  {
   "cell_type": "markdown",
   "metadata": {
    "colab_type": "text",
    "id": "vj_hig4-gDTI"
   },
   "source": [
    "You have all the pieces to implement the trainning of our model. The training is the action to determine the weight in function of our example and find the global minima."
   ]
  },
  {
   "cell_type": "code",
   "execution_count": 53,
   "metadata": {
    "colab": {},
    "colab_type": "code",
    "id": "WbOPClmtgJy3"
   },
   "outputs": [],
   "source": [
    "def lr_fit(X, W, Y, alpha, num_iters) :\n",
    "  \"\"\" lr_fit train our algorithm to find the best W for our prediction\n",
    "  INPUT :\n",
    "    X          shape(m, n-1)\n",
    "    W          shape(n, 1)\n",
    "    Y          shape(1, m)\n",
    "    alpha      float\n",
    "    num_iters  integer\n",
    "  OUPUT :\n",
    "    W          shape(n, 1)\n",
    "    J_history   shape(num_iters,)\"\"\"\n",
    "  \n",
    "  m, _ = X.shape\n",
    "  \n",
    "  X_1 = np.stack(np.hstack((np.ones(m).reshape(m, 1), X)), axis=1)\n",
    "  \n",
    "  W, J_history = gradientDescent(X_1, W, Y, alpha, num_iters)\n",
    "  \n",
    "  return W, J_history"
   ]
  },
  {
   "cell_type": "code",
   "execution_count": 54,
   "metadata": {
    "colab": {
     "base_uri": "https://localhost:8080/",
     "height": 84
    },
    "colab_type": "code",
    "id": "8I9ivfCTgOi3",
    "outputId": "5526d7cf-0b77-4b9c-e9b5-a2a360c7bd9b"
   },
   "outputs": [
    {
     "name": "stdout",
     "output_type": "stream",
     "text": [
      "Values of the parameters W after 2000 iterations of gradient descent :\n",
      "[[-24.0001077 ]\n",
      " [  0.19653141]\n",
      " [  0.192503  ]]\n"
     ]
    }
   ],
   "source": [
    "W = np.array((-24, 0.2, 0.2)).reshape((3,1))\n",
    "alpha = 0.001\n",
    "iterations = 50\n",
    "W, _ = lr_fit(X, W, Y, alpha, iterations)\n",
    "\n",
    "print(\"Values of the parameters W after 2000 iterations of gradient descent :\\n\"\n",
    "      + str(W))"
   ]
  },
  {
   "cell_type": "markdown",
   "metadata": {
    "colab_type": "text",
    "id": "EHfZDebdgPC3"
   },
   "source": [
    "Expected values :\n",
    "\n",
    "[[-24.0001077 ]\n",
    "\n",
    " [  0.19653141]\n",
    " \n",
    " [  0.192503  ]]"
   ]
  },
  {
   "cell_type": "code",
   "execution_count": 55,
   "metadata": {
    "colab": {
     "base_uri": "https://localhost:8080/",
     "height": 382
    },
    "colab_type": "code",
    "id": "LT_TLHOjtdNV",
    "outputId": "670d2dac-0df4-41a9-c29d-87ecb643aa3c"
   },
   "outputs": [
    {
     "data": {
      "image/png": "[encoded data removed]",
      "text/plain": [
       "<Figure size 432x288 with 1 Axes>"
      ]
     },
     "metadata": {
      "needs_background": "light"
     },
     "output_type": "display_data"
    }
   ],
   "source": [
    "fig, ax = plt.subplots()\n",
    "\n",
    "x = np.array(range(30, 100))\n",
    "y = (-1/W[2]) * (x * W[1] + W[0])\n",
    "\n",
    "plt.plot(x, y, c='red')\n",
    "plt.scatter(logistic_regression[logistic_regression[:, 2]==0, 0], logistic_regression[logistic_regression[:, 2]==0, 1], label='Admitted')\n",
    "plt.scatter(logistic_regression[logistic_regression[:, 2]==1, 0], logistic_regression[logistic_regression[:, 2]==1, 1], label='Not admitted', marker='v')\n",
    "\n",
    "\n",
    "plt.title('Scatter plot of training data', size='xx-large')\n",
    "plt.xlabel('Exam 1 score')\n",
    "plt.ylabel('Exam 2 score')\n",
    "\n",
    "ax.legend()\n",
    "plt.show()"
   ]
  },
  {
   "cell_type": "markdown",
   "metadata": {
    "colab_type": "text",
    "id": "dSWscBuw290A"
   },
   "source": [
    "## 4. Linear regression with sklearn"
   ]
  },
  {
   "cell_type": "markdown",
   "metadata": {
    "colab_type": "text",
    "id": "Wf4VD_BK3AtH"
   },
   "source": [
    "When you wan to apply linear regression you will noit use your implementation. People worked during long time to optimize code of linear regression and use more efficient version of gradient descent to optimize it. \n",
    "\n",
    "Sklearn is a python package which contain all the classic algorithm for data preprocessing, machine learning, and other tools. All algorithms are well optimized and easy to use."
   ]
  },
  {
   "cell_type": "markdown",
   "metadata": {
    "colab_type": "text",
    "id": "iHAE7FNX4avf"
   },
   "source": [
    "Let's generate some linear-looking data to test sklearn."
   ]
  },
  {
   "cell_type": "code",
   "execution_count": 310,
   "metadata": {
    "colab": {
     "base_uri": "https://localhost:8080/",
     "height": 347
    },
    "colab_type": "code",
    "id": "4MrcCFHL4ZKL",
    "outputId": "18cd5279-a7a6-41e2-b205-d8e1a117fdc6"
   },
   "outputs": [
    {
     "data": {
      "image/png": "[encoded data removed]",
      "text/plain": [
       "<Figure size 432x288 with 1 Axes>"
      ]
     },
     "metadata": {
      "needs_background": "light"
     },
     "output_type": "display_data"
    }
   ],
   "source": [
    "X_rand = 2 * np.random.rand(100, 1)\n",
    "Y_rand = 4 + 3 * X_rand + np.random.randn(100, 1)\n",
    "\n",
    "plt.scatter(X_rand, Y_rand)\n",
    "plt.show()"
   ]
  },
  {
   "cell_type": "code",
   "execution_count": 311,
   "metadata": {
    "colab": {
     "base_uri": "https://localhost:8080/",
     "height": 50
    },
    "colab_type": "code",
    "id": "ydYGZSB83sWJ",
    "outputId": "65cb8b74-5df2-4a82-9a0a-565df1d5e4f0"
   },
   "outputs": [
    {
     "name": "stdout",
     "output_type": "stream",
     "text": [
      "w_0 : 4.010013681952296\n",
      "w_1 : 2.8845390355966227\n"
     ]
    }
   ],
   "source": [
    "from sklearn.linear_model import LinearRegression\n",
    "\n",
    "# lin_reg contain linear regression initialized with default parameters \n",
    "lin_reg = LinearRegression()\n",
    "\n",
    "# .fit used to optimized the parameters \n",
    "lin_reg.fit(X_rand, Y_rand)\n",
    "\n",
    "# let's see our parameters\n",
    "print(\"w_0 : \"+str(np.squeeze(lin_reg.intercept_))+\"\\nw_1 : \" +str(np.squeeze(lin_reg.coef_)))"
   ]
  },
  {
   "cell_type": "code",
   "execution_count": 312,
   "metadata": {
    "colab": {
     "base_uri": "https://localhost:8080/",
     "height": 347
    },
    "colab_type": "code",
    "id": "cdrHiaQb51Py",
    "outputId": "5b661431-7559-4917-9ef7-76856150c3e8"
   },
   "outputs": [
    {
     "data": {
      "image/png": "[encoded data removed]",
      "text/plain": [
       "<Figure size 432x288 with 1 Axes>"
      ]
     },
     "metadata": {
      "needs_background": "light"
     },
     "output_type": "display_data"
    }
   ],
   "source": [
    "x_vizu = np.arange(0, 2.2, 0.1).reshape(22, 1)\n",
    "y_vizu = lin_reg.predict(x_vizu)\n",
    "\n",
    "plt.plot(x_vizu, y_vizu, c='red', label='predictions')\n",
    "plt.scatter(X_rand, Y_rand)\n",
    "plt.legend()\n",
    "plt.show()"
   ]
  },
  {
   "cell_type": "markdown",
   "metadata": {
    "colab_type": "text",
    "id": "v2v68U-h3I4_"
   },
   "source": [
    "Now apply linear regression with sklearn at our previous problem. "
   ]
  },
  {
   "cell_type": "code",
   "execution_count": 313,
   "metadata": {
    "colab": {},
    "colab_type": "code",
    "id": "D9r4gCfv6pJI"
   },
   "outputs": [],
   "source": [
    "m = len(univariate_regression[:, 0])\n",
    "\n",
    "# We construct the X dataset \n",
    "X = univariate_regression[:, 0].reshape(m, 1)\n",
    "\n",
    "\n",
    "\n",
    "# We construct the Y dataset\n",
    "Y = univariate_regression[:, 1].reshape(m, 1)"
   ]
  },
  {
   "cell_type": "code",
   "execution_count": 314,
   "metadata": {
    "colab": {
     "base_uri": "https://localhost:8080/",
     "height": 50
    },
    "colab_type": "code",
    "id": "2HeQkvjL6qLj",
    "outputId": "e769210c-de87-42d1-8852-cff2508306ac"
   },
   "outputs": [
    {
     "name": "stdout",
     "output_type": "stream",
     "text": [
      "w_0 : -3.89578087831185\n",
      "w_1 : 1.1930336441895935\n"
     ]
    }
   ],
   "source": [
    "### Your code start here ###\n",
    "lin_reg = LinearRegression()\n",
    "\n",
    "lin_reg.fit(X, Y)\n",
    "### Your code end here ###\n",
    "\n",
    "print(\"w_0 : \"+str(np.squeeze(lin_reg.intercept_))+\"\\nw_1 : \"+str(np.squeeze(lin_reg.coef_)))"
   ]
  },
  {
   "cell_type": "markdown",
   "metadata": {
    "colab_type": "text",
    "id": "smJ8EKmujJhJ"
   },
   "source": [
    "Expected values : \n",
    "\n",
    "w_0 : -3.89\n",
    "\n",
    "w_1 : 1.19"
   ]
  },
  {
   "cell_type": "code",
   "execution_count": 315,
   "metadata": {
    "colab": {
     "base_uri": "https://localhost:8080/",
     "height": 347
    },
    "colab_type": "code",
    "id": "9CsQYIej63WE",
    "outputId": "133a8479-92e5-488c-c3a6-53940c7396a2"
   },
   "outputs": [
    {
     "data": {
      "image/png": "[encoded data removed]",
      "text/plain": [
       "<Figure size 432x288 with 1 Axes>"
      ]
     },
     "metadata": {
      "needs_background": "light"
     },
     "output_type": "display_data"
    }
   ],
   "source": [
    "x_vizu = np.array(np.arange(4.5, 23)).reshape(19, 1)\n",
    "y_vizu = lin_reg.predict(x_vizu)\n",
    "\n",
    "plt.plot(x_vizu, y_vizu, c='red', label='predictions')\n",
    "plt.scatter(X, Y)\n",
    "plt.legend()\n",
    "plt.show()"
   ]
  },
  {
   "cell_type": "markdown",
   "metadata": {
    "colab_type": "text",
    "id": "zoAWfjiy_NBP"
   },
   "source": [
    "## 5. Logistic regression with sklearn"
   ]
  },
  {
   "cell_type": "markdown",
   "metadata": {
    "colab_type": "text",
    "id": "JhqHTtg8jWs6"
   },
   "source": [
    "Let's generate some linear-looking data to test sklearn for logistic regression"
   ]
  },
  {
   "cell_type": "code",
   "execution_count": 316,
   "metadata": {
    "colab": {},
    "colab_type": "code",
    "id": "BvmsCBOO7QH8"
   },
   "outputs": [],
   "source": [
    "x_11 = 1 * np.random.randn(100) + 0\n",
    "x_21 = 3 * np.random.randn(100) + 2\n",
    "x_12 = 2 * np.random.randn(100) + 15\n",
    "x_22 = 6 * np.random.randn(100) + 10\n",
    "\n",
    "x_1 = np.concatenate((x_11, x_12))\n",
    "x_2 = np.concatenate((x_21, x_22))\n",
    "X = np.stack((x_1, x_2), axis=-1)\n",
    "\n",
    "Y = np.concatenate((np.repeat(0, 100), np.repeat(1, 100)))"
   ]
  },
  {
   "cell_type": "code",
   "execution_count": 317,
   "metadata": {
    "colab": {
     "base_uri": "https://localhost:8080/",
     "height": 348
    },
    "colab_type": "code",
    "id": "VYQF-85BBuI8",
    "outputId": "64c2dd55-33a8-42d5-fdd5-b677dcca0af1"
   },
   "outputs": [
    {
     "data": {
      "image/png": "[encoded data removed]",
      "text/plain": [
       "<Figure size 432x288 with 1 Axes>"
      ]
     },
     "metadata": {
      "needs_background": "light"
     },
     "output_type": "display_data"
    }
   ],
   "source": [
    "plt.scatter(x_11, x_21, c = 'blue')\n",
    "plt.scatter(x_12, x_22, c = 'green')\n",
    "\n",
    "plt.show()"
   ]
  },
  {
   "cell_type": "code",
   "execution_count": 318,
   "metadata": {
    "colab": {
     "base_uri": "https://localhost:8080/",
     "height": 67
    },
    "colab_type": "code",
    "id": "Ot6UrEzACUAy",
    "outputId": "0316ec1a-54a4-4af1-cd6e-e6cf76b9a47a"
   },
   "outputs": [
    {
     "name": "stdout",
     "output_type": "stream",
     "text": [
      "w_0 : -3.2742390094080704\n",
      "w_1 : 0.8059505677595061\n",
      "w_2 : -0.13986305337481558\n"
     ]
    },
    {
     "name": "stderr",
     "output_type": "stream",
     "text": [
      "/anaconda3/lib/python3.6/site-packages/sklearn/linear_model/logistic.py:433: FutureWarning: Default solver will be changed to 'lbfgs' in 0.22. Specify a solver to silence this warning.\n",
      "  FutureWarning)\n"
     ]
    }
   ],
   "source": [
    "from sklearn.linear_model import LogisticRegression\n",
    "\n",
    "# log_reg contain logistic regression initialized with default parameters \n",
    "log_reg = LogisticRegression()\n",
    "\n",
    "# .fit used to optimized the parameters \n",
    "log_reg.fit(X, Y)\n",
    "\n",
    "w_0 = np.squeeze(log_reg.intercept_)\n",
    "w_1, w_2 = np.squeeze(log_reg.coef_)\n",
    "\n",
    "print(\"w_0 : \"+str(w_0)+\"\\nw_1 : \"+str(w_1)+\"\\nw_2 : \"+str(w_2))"
   ]
  },
  {
   "cell_type": "code",
   "execution_count": 319,
   "metadata": {
    "colab": {
     "base_uri": "https://localhost:8080/",
     "height": 347
    },
    "colab_type": "code",
    "id": "KiPSzlqeEZee",
    "outputId": "f174f53a-4881-4fcd-c335-07c7966296e5"
   },
   "outputs": [
    {
     "data": {
      "image/png": "[encoded data removed]",
      "text/plain": [
       "<Figure size 432x288 with 1 Axes>"
      ]
     },
     "metadata": {
      "needs_background": "light"
     },
     "output_type": "display_data"
    }
   ],
   "source": [
    "x = np.array(range(2, 11))\n",
    "y = (-1/w_2) * (x * w_1 + w_0)\n",
    "\n",
    "plt.plot(x, y, c='red')\n",
    "plt.scatter(x_11, x_21, c = 'blue')\n",
    "plt.scatter(x_12, x_22, c = 'green')\n",
    "\n",
    "plt.show()"
   ]
  },
  {
   "cell_type": "code",
   "execution_count": 320,
   "metadata": {
    "colab": {},
    "colab_type": "code",
    "id": "zm8JRfRMH29T"
   },
   "outputs": [],
   "source": [
    "m, n = logistic_regression[:, :2].shape\n",
    "X = logistic_regression[:, :2]\n",
    "Y = logistic_regression[:, 2]"
   ]
  },
  {
   "cell_type": "code",
   "execution_count": 321,
   "metadata": {
    "colab": {
     "base_uri": "https://localhost:8080/",
     "height": 67
    },
    "colab_type": "code",
    "id": "OOqiGvLL9loM",
    "outputId": "b6a28f24-1fd1-408b-b5c2-ea62845c0e3d"
   },
   "outputs": [
    {
     "name": "stdout",
     "output_type": "stream",
     "text": [
      "w_0 : -3.8997779447047662\n",
      "w_1 : 0.03844481555488249\n",
      "w_2 : 0.031018545562908596\n"
     ]
    },
    {
     "name": "stderr",
     "output_type": "stream",
     "text": [
      "/anaconda3/lib/python3.6/site-packages/sklearn/linear_model/logistic.py:433: FutureWarning: Default solver will be changed to 'lbfgs' in 0.22. Specify a solver to silence this warning.\n",
      "  FutureWarning)\n"
     ]
    }
   ],
   "source": [
    "### Your code start here ###\n",
    "log_reg = LogisticRegression()\n",
    "\n",
    "log_reg.fit(X, Y)\n",
    "### Your code end here ###\n",
    "\n",
    "w_0 = np.squeeze(log_reg.intercept_)\n",
    "w_1, w_2 = np.squeeze(log_reg.coef_)\n",
    "\n",
    "print(\"w_0 : \"+str(w_0)+\"\\nw_1 : \"+str(w_1)+\"\\nw_2 : \"+str(w_2))"
   ]
  },
  {
   "cell_type": "markdown",
   "metadata": {},
   "source": [
    "Expected values :\n",
    "\n",
    "w_0 : -3.89\n",
    "\n",
    "w_1 : 0.038\n",
    "\n",
    "w-2 : 0.031"
   ]
  },
  {
   "cell_type": "code",
   "execution_count": 322,
   "metadata": {
    "colab": {
     "base_uri": "https://localhost:8080/",
     "height": 382
    },
    "colab_type": "code",
    "id": "gpmm0W4h99Is",
    "outputId": "c8266888-964d-4268-fab6-22667cfe7eb2"
   },
   "outputs": [
    {
     "data": {
      "image/png": "[encoded data removed]",
      "text/plain": [
       "<Figure size 432x288 with 1 Axes>"
      ]
     },
     "metadata": {
      "needs_background": "light"
     },
     "output_type": "display_data"
    }
   ],
   "source": [
    "W = np.array((w_0, w_1, w_2))\n",
    "\n",
    "fig, ax = plt.subplots()\n",
    "\n",
    "x = np.array(range(30, 80))\n",
    "y = (-1/W[2]) * (x * W[1] + W[0])\n",
    "\n",
    "plt.plot(x, y, c='red')\n",
    "plt.scatter(logistic_regression[logistic_regression[:, 2]==0, 0], logistic_regression[logistic_regression[:, 2]==0, 1], label='Admitted')\n",
    "plt.scatter(logistic_regression[logistic_regression[:, 2]==1, 0], logistic_regression[logistic_regression[:, 2]==1, 1], label='Not admitted', marker='v')\n",
    "\n",
    "\n",
    "plt.title('Scatter plot of training data', size='xx-large')\n",
    "plt.xlabel('Exam 1 score')\n",
    "plt.ylabel('Exam 2 score')\n",
    "\n",
    "ax.legend()\n",
    "plt.show()"
   ]
  },
  {
   "cell_type": "code",
   "execution_count": 0,
   "metadata": {
    "colab": {},
    "colab_type": "code",
    "id": "fyGt7dfikNWr"
   },
   "outputs": [],
   "source": []
  }
 ],
 "metadata": {
  "colab": {
   "collapsed_sections": [],
   "name": "Lecture_1.ipynb",
   "provenance": [],
   "version": "0.3.2"
  },
  "kernelspec": {
   "display_name": "Python 3",
   "language": "python",
   "name": "python3"
  },
  "language_info": {
   "codemirror_mode": {
    "name": "ipython",
    "version": 3
   },
   "file_extension": ".py",
   "mimetype": "text/x-python",
   "name": "python",
   "nbconvert_exporter": "python",
   "pygments_lexer": "ipython3",
   "version": "3.6.6"
  }
 },
 "nbformat": 4,
 "nbformat_minor": 1
}
