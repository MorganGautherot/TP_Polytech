{
 "cells": [
  {
   "cell_type": "markdown",
   "metadata": {
    "colab_type": "text",
    "id": "1elEzKC_gw9L"
   },
   "source": [
    "# Machine Learning Strategy\n",
    "*Author -- Morgan Gautherot*\n",
    "\n",
    "If you have any question please feel free to send me an email at :\n",
    "\n",
    "gautherotmorgan0@gmail.com"
   ]
  },
  {
   "cell_type": "markdown",
   "metadata": {
    "colab_type": "text",
    "id": "H9i7Z4eZifDk"
   },
   "source": [
    "## 1 Feature scaling"
   ]
  },
  {
   "cell_type": "markdown",
   "metadata": {
    "colab_type": "text",
    "id": "seuiWx3eikEq"
   },
   "source": [
    "Feature scaling is very important step before modeling, it avoid gradient descent to diverge, and even helps it to converge quickly."
   ]
  },
  {
   "cell_type": "code",
   "execution_count": 1,
   "metadata": {
    "colab": {},
    "colab_type": "code",
    "id": "Uw9QyE6PkNwv"
   },
   "outputs": [],
   "source": [
    "import matplotlib.pyplot as plt\n",
    "import seaborn as sns\n",
    "import numpy as np\n",
    "\n",
    "np.random.seed(123)"
   ]
  },
  {
   "cell_type": "markdown",
   "metadata": {
    "colab_type": "text",
    "id": "mUnh6KDdjyv2"
   },
   "source": [
    "Let's import 'multivariate_regression.txt'"
   ]
  },
  {
   "cell_type": "code",
   "execution_count": 2,
   "metadata": {
    "colab": {
     "base_uri": "https://localhost:8080/",
     "height": 90,
     "resources": {
      "http://localhost:8080/nbextensions/google.colab/files.js": {
       "data": "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",
       "headers": [
        [
         "content-type",
         "application/javascript"
        ]
       ],
       "ok": true,
       "status": 200,
       "status_text": ""
      }
     }
    },
    "colab_type": "code",
    "id": "dQ3p4G10ijAt",
    "outputId": "5710b2a3-68c1-40fd-c291-5ca0fb7d611e"
   },
   "outputs": [
    {
     "ename": "ModuleNotFoundError",
     "evalue": "No module named 'google.colab'",
     "output_type": "error",
     "traceback": [
      "\u001b[0;31m---------------------------------------------------------------------------\u001b[0m",
      "\u001b[0;31mModuleNotFoundError\u001b[0m                       Traceback (most recent call last)",
      "\u001b[0;32m<ipython-input-2-292f82be1b7a>\u001b[0m in \u001b[0;36m<module>\u001b[0;34m\u001b[0m\n\u001b[0;32m----> 1\u001b[0;31m \u001b[0;32mfrom\u001b[0m \u001b[0mgoogle\u001b[0m\u001b[0;34m.\u001b[0m\u001b[0mcolab\u001b[0m \u001b[0;32mimport\u001b[0m \u001b[0mfiles\u001b[0m\u001b[0;34m\u001b[0m\u001b[0m\n\u001b[0m\u001b[1;32m      2\u001b[0m \u001b[0;34m\u001b[0m\u001b[0m\n\u001b[1;32m      3\u001b[0m \u001b[0muploaded\u001b[0m \u001b[0;34m=\u001b[0m \u001b[0mfiles\u001b[0m\u001b[0;34m.\u001b[0m\u001b[0mupload\u001b[0m\u001b[0;34m(\u001b[0m\u001b[0;34m)\u001b[0m\u001b[0;34m\u001b[0m\u001b[0m\n\u001b[1;32m      4\u001b[0m \u001b[0;34m\u001b[0m\u001b[0m\n\u001b[1;32m      5\u001b[0m \u001b[0;32mfor\u001b[0m \u001b[0mfn\u001b[0m \u001b[0;32min\u001b[0m \u001b[0muploaded\u001b[0m\u001b[0;34m.\u001b[0m\u001b[0mkeys\u001b[0m\u001b[0;34m(\u001b[0m\u001b[0;34m)\u001b[0m\u001b[0;34m:\u001b[0m\u001b[0;34m\u001b[0m\u001b[0m\n",
      "\u001b[0;31mModuleNotFoundError\u001b[0m: No module named 'google.colab'"
     ]
    }
   ],
   "source": [
    "from google.colab import files\n",
    "\n",
    "uploaded = files.upload()\n",
    "\n",
    "for fn in uploaded.keys():\n",
    "  print('User uploaded file \"{name}\" with length {length} bytes'.format(\n",
    "      name=fn, length=len(uploaded[fn])))"
   ]
  },
  {
   "cell_type": "markdown",
   "metadata": {
    "colab_type": "text",
    "id": "xYKl04qes47C"
   },
   "source": [
    "We take again our data set with two features, square meters and number of rooms in order to predict the price of houses."
   ]
  },
  {
   "cell_type": "code",
   "execution_count": 3,
   "metadata": {
    "colab": {},
    "colab_type": "code",
    "id": "h5Bwlr09kH1O"
   },
   "outputs": [
    {
     "ename": "OSError",
     "evalue": "multivariate_regression.txt not found.",
     "output_type": "error",
     "traceback": [
      "\u001b[0;31m---------------------------------------------------------------------------\u001b[0m",
      "\u001b[0;31mOSError\u001b[0m                                   Traceback (most recent call last)",
      "\u001b[0;32m<ipython-input-3-895311529825>\u001b[0m in \u001b[0;36m<module>\u001b[0;34m\u001b[0m\n\u001b[1;32m      1\u001b[0m \u001b[0;31m# upload the dataset\u001b[0m\u001b[0;34m\u001b[0m\u001b[0;34m\u001b[0m\u001b[0m\n\u001b[0;32m----> 2\u001b[0;31m \u001b[0mmultivariate_regression\u001b[0m \u001b[0;34m=\u001b[0m \u001b[0mnp\u001b[0m\u001b[0;34m.\u001b[0m\u001b[0mgenfromtxt\u001b[0m\u001b[0;34m(\u001b[0m\u001b[0;34m'multivariate_regression.txt'\u001b[0m\u001b[0;34m,\u001b[0m \u001b[0mdelimiter\u001b[0m\u001b[0;34m=\u001b[0m\u001b[0;34m','\u001b[0m\u001b[0;34m)\u001b[0m\u001b[0;34m\u001b[0m\u001b[0m\n\u001b[0m\u001b[1;32m      3\u001b[0m \u001b[0;34m\u001b[0m\u001b[0m\n\u001b[1;32m      4\u001b[0m \u001b[0mm\u001b[0m\u001b[0;34m,\u001b[0m \u001b[0m_\u001b[0m \u001b[0;34m=\u001b[0m \u001b[0mmultivariate_regression\u001b[0m\u001b[0;34m.\u001b[0m\u001b[0mshape\u001b[0m\u001b[0;34m\u001b[0m\u001b[0m\n\u001b[1;32m      5\u001b[0m \u001b[0;34m\u001b[0m\u001b[0m\n",
      "\u001b[0;32m/anaconda3/lib/python3.6/site-packages/numpy/lib/npyio.py\u001b[0m in \u001b[0;36mgenfromtxt\u001b[0;34m(fname, dtype, comments, delimiter, skip_header, skip_footer, converters, missing_values, filling_values, usecols, names, excludelist, deletechars, replace_space, autostrip, case_sensitive, defaultfmt, unpack, usemask, loose, invalid_raise, max_rows, encoding)\u001b[0m\n\u001b[1;32m   1698\u001b[0m             \u001b[0mfname\u001b[0m \u001b[0;34m=\u001b[0m \u001b[0mstr\u001b[0m\u001b[0;34m(\u001b[0m\u001b[0mfname\u001b[0m\u001b[0;34m)\u001b[0m\u001b[0;34m\u001b[0m\u001b[0m\n\u001b[1;32m   1699\u001b[0m         \u001b[0;32mif\u001b[0m \u001b[0misinstance\u001b[0m\u001b[0;34m(\u001b[0m\u001b[0mfname\u001b[0m\u001b[0;34m,\u001b[0m \u001b[0mbasestring\u001b[0m\u001b[0;34m)\u001b[0m\u001b[0;34m:\u001b[0m\u001b[0;34m\u001b[0m\u001b[0m\n\u001b[0;32m-> 1700\u001b[0;31m             \u001b[0mfhd\u001b[0m \u001b[0;34m=\u001b[0m \u001b[0miter\u001b[0m\u001b[0;34m(\u001b[0m\u001b[0mnp\u001b[0m\u001b[0;34m.\u001b[0m\u001b[0mlib\u001b[0m\u001b[0;34m.\u001b[0m\u001b[0m_datasource\u001b[0m\u001b[0;34m.\u001b[0m\u001b[0mopen\u001b[0m\u001b[0;34m(\u001b[0m\u001b[0mfname\u001b[0m\u001b[0;34m,\u001b[0m \u001b[0;34m'rt'\u001b[0m\u001b[0;34m,\u001b[0m \u001b[0mencoding\u001b[0m\u001b[0;34m=\u001b[0m\u001b[0mencoding\u001b[0m\u001b[0;34m)\u001b[0m\u001b[0;34m)\u001b[0m\u001b[0;34m\u001b[0m\u001b[0m\n\u001b[0m\u001b[1;32m   1701\u001b[0m             \u001b[0mown_fhd\u001b[0m \u001b[0;34m=\u001b[0m \u001b[0;32mTrue\u001b[0m\u001b[0;34m\u001b[0m\u001b[0m\n\u001b[1;32m   1702\u001b[0m         \u001b[0;32melse\u001b[0m\u001b[0;34m:\u001b[0m\u001b[0;34m\u001b[0m\u001b[0m\n",
      "\u001b[0;32m/anaconda3/lib/python3.6/site-packages/numpy/lib/_datasource.py\u001b[0m in \u001b[0;36mopen\u001b[0;34m(path, mode, destpath, encoding, newline)\u001b[0m\n\u001b[1;32m    260\u001b[0m \u001b[0;34m\u001b[0m\u001b[0m\n\u001b[1;32m    261\u001b[0m     \u001b[0mds\u001b[0m \u001b[0;34m=\u001b[0m \u001b[0mDataSource\u001b[0m\u001b[0;34m(\u001b[0m\u001b[0mdestpath\u001b[0m\u001b[0;34m)\u001b[0m\u001b[0;34m\u001b[0m\u001b[0m\n\u001b[0;32m--> 262\u001b[0;31m     \u001b[0;32mreturn\u001b[0m \u001b[0mds\u001b[0m\u001b[0;34m.\u001b[0m\u001b[0mopen\u001b[0m\u001b[0;34m(\u001b[0m\u001b[0mpath\u001b[0m\u001b[0;34m,\u001b[0m \u001b[0mmode\u001b[0m\u001b[0;34m,\u001b[0m \u001b[0mencoding\u001b[0m\u001b[0;34m=\u001b[0m\u001b[0mencoding\u001b[0m\u001b[0;34m,\u001b[0m \u001b[0mnewline\u001b[0m\u001b[0;34m=\u001b[0m\u001b[0mnewline\u001b[0m\u001b[0;34m)\u001b[0m\u001b[0;34m\u001b[0m\u001b[0m\n\u001b[0m\u001b[1;32m    263\u001b[0m \u001b[0;34m\u001b[0m\u001b[0m\n\u001b[1;32m    264\u001b[0m \u001b[0;34m\u001b[0m\u001b[0m\n",
      "\u001b[0;32m/anaconda3/lib/python3.6/site-packages/numpy/lib/_datasource.py\u001b[0m in \u001b[0;36mopen\u001b[0;34m(self, path, mode, encoding, newline)\u001b[0m\n\u001b[1;32m    616\u001b[0m                                       encoding=encoding, newline=newline)\n\u001b[1;32m    617\u001b[0m         \u001b[0;32melse\u001b[0m\u001b[0;34m:\u001b[0m\u001b[0;34m\u001b[0m\u001b[0m\n\u001b[0;32m--> 618\u001b[0;31m             \u001b[0;32mraise\u001b[0m \u001b[0mIOError\u001b[0m\u001b[0;34m(\u001b[0m\u001b[0;34m\"%s not found.\"\u001b[0m \u001b[0;34m%\u001b[0m \u001b[0mpath\u001b[0m\u001b[0;34m)\u001b[0m\u001b[0;34m\u001b[0m\u001b[0m\n\u001b[0m\u001b[1;32m    619\u001b[0m \u001b[0;34m\u001b[0m\u001b[0m\n\u001b[1;32m    620\u001b[0m \u001b[0;34m\u001b[0m\u001b[0m\n",
      "\u001b[0;31mOSError\u001b[0m: multivariate_regression.txt not found."
     ]
    }
   ],
   "source": [
    "# upload the dataset\n",
    "multivariate_regression = np.genfromtxt('multivariate_regression.txt', delimiter=',')\n",
    "\n",
    "m, _ = multivariate_regression.shape\n",
    "\n",
    "#X = np.stack(multivariate_regression[:, :2], axis=1)\n",
    "X = multivariate_regression[:, :2] \n",
    "Y = multivariate_regression[:, 2].reshape((1, m))"
   ]
  },
  {
   "cell_type": "markdown",
   "metadata": {
    "colab_type": "text",
    "id": "nnCxOBj1uFb-"
   },
   "source": [
    "We will use function implemented in the previous exercice."
   ]
  },
  {
   "cell_type": "code",
   "execution_count": 0,
   "metadata": {
    "colab": {},
    "colab_type": "code",
    "id": "Gtr6MTL5kP8g"
   },
   "outputs": [],
   "source": [
    "def predict(X, W):\n",
    "  \"\"\" Predict our h(x) in function of their features \n",
    "  INPUT :\n",
    "    X shape(n, m)\n",
    "    W shape(n, 1)\n",
    "  OUTPUT :\n",
    "    h shape(1, m)\"\"\"\n",
    "\n",
    "  return np.dot(W.T, X)"
   ]
  },
  {
   "cell_type": "code",
   "execution_count": 0,
   "metadata": {
    "colab": {},
    "colab_type": "code",
    "id": "It7j2YYulQbZ"
   },
   "outputs": [],
   "source": [
    "def ComputeCost(X, W, Y):\n",
    "  \"\"\" Compute cost for linear regression \n",
    "  INPUT :\n",
    "    X shape(n, m)\n",
    "    W shape(n, 1)\n",
    "    Y shape(1, m)\n",
    "  OUTPUT :\n",
    "    J float\"\"\"\n",
    "\n",
    "  _, m = X.shape\n",
    "\n",
    "  return 1/(2*m) * np.dot((predict(X, W)-Y), (predict(X, W)-Y).T)"
   ]
  },
  {
   "cell_type": "markdown",
   "metadata": {
    "colab_type": "text",
    "id": "4GruKagYtRrA"
   },
   "source": [
    "We change a bit 'gradientDescent' in order to output w history."
   ]
  },
  {
   "cell_type": "code",
   "execution_count": 0,
   "metadata": {
    "colab": {},
    "colab_type": "code",
    "id": "M9C2AoIsl6LM"
   },
   "outputs": [],
   "source": [
    "def gradientDescent(X, W, Y, alpha, num_iters):\n",
    "  \"\"\" gradientDescent compute gradient descent to learn best W\n",
    "  INPUT :\n",
    "    X           shape(n, m)\n",
    "    W           shape(n, 1)\n",
    "    Y           shape(1, m)\n",
    "    alpha       float\n",
    "    num_iters   integer\n",
    "  OUTPUT :\n",
    "    W           shape(n, 1)\n",
    "    J_history   shape(num_iters,)\n",
    "    W_history.  len(num_iters)\"\"\"\n",
    "  \n",
    "  _, m = X.shape\n",
    "  J_history = np.zeros(num_iters)\n",
    "  W_history = []\n",
    "  \n",
    "  for it in range(0, num_iters):\n",
    "\n",
    "    gradient = (alpha/m) * np.dot(X, (predict(X, W)-Y).T)\n",
    "    W = W - gradient\n",
    "    \n",
    "    J_history[it] = ComputeCost(X, W, Y)\n",
    "    W_history.append(W)\n",
    "    \n",
    "  return W, J_history, W_history"
   ]
  },
  {
   "cell_type": "code",
   "execution_count": 0,
   "metadata": {
    "colab": {},
    "colab_type": "code",
    "id": "wugnoWfRmGMo"
   },
   "outputs": [],
   "source": [
    "def lr_fit(X, W, Y, alpha, num_iters) :\n",
    "  \"\"\" lr_fit train our algorithm to find the best W for our prediction\n",
    "  INPUT :\n",
    "    X          shape(m, n-1)\n",
    "    W          shape(n, 1)\n",
    "    Y          shape(1, m)\n",
    "    alpha      float\n",
    "    num_iters  integer\n",
    "  OUPUT :\n",
    "    W          shape(n, 1)\n",
    "    J_history  shape(num_iters,)\n",
    "    W_history  len(num_iters)\"\"\"\n",
    "  \n",
    "  m, _ = X.shape\n",
    "  \n",
    "  X_1 = np.stack(np.hstack((np.ones(m).reshape(m, 1), X)), axis=1)\n",
    "  \n",
    "  W, J_history, W_history = gradientDescent(X_1, W, Y, alpha, num_iters)\n",
    "  \n",
    "  return W, J_history, W_history"
   ]
  },
  {
   "cell_type": "code",
   "execution_count": 8,
   "metadata": {
    "colab": {
     "base_uri": "https://localhost:8080/",
     "height": 85
    },
    "colab_type": "code",
    "id": "yWzvGFLgmSD1",
    "outputId": "9f30fb12-c899-40a6-d217-711acf5b6a93"
   },
   "outputs": [
    {
     "name": "stdout",
     "output_type": "stream",
     "text": [
      "[[nan]\n",
      " [nan]\n",
      " [nan]]\n"
     ]
    },
    {
     "name": "stderr",
     "output_type": "stream",
     "text": [
      "/usr/local/lib/python3.6/dist-packages/ipykernel_launcher.py:21: RuntimeWarning: invalid value encountered in subtract\n"
     ]
    }
   ],
   "source": [
    "alpha = 0.01\n",
    "num_iters = 200\n",
    "W = np.array([0, 0, 0]).reshape(3, 1)\n",
    "W, J_history, W_history = lr_fit(X, W, Y, alpha, num_iters)\n",
    "print(W)"
   ]
  },
  {
   "cell_type": "markdown",
   "metadata": {
    "colab_type": "text",
    "id": "FVNV6jubm8_X"
   },
   "source": [
    "We obtain 'nan' value which in python mean 'Not A Number'.\n",
    "\n",
    "But why do we get 'nan' value.\n",
    "\n",
    "Take a look at J_history."
   ]
  },
  {
   "cell_type": "code",
   "execution_count": 9,
   "metadata": {
    "colab": {
     "base_uri": "https://localhost:8080/",
     "height": 376
    },
    "colab_type": "code",
    "id": "Ze4qJhIqrMh5",
    "outputId": "ef4f8dc3-e868-4018-b5cc-123828faa310"
   },
   "outputs": [
    {
     "data": {
      "image/png": "[encoded data removed]",
      "text/plain": [
       "<matplotlib.figure.Figure at 0x7f6314504128>"
      ]
     },
     "metadata": {
      "tags": []
     },
     "output_type": "display_data"
    }
   ],
   "source": [
    "plt.plot(J_history)\n",
    "plt.xlabel(\"Iterations\")\n",
    "plt.ylabel(\"J(W)\")\n",
    "plt.title(\"Minimization of the cost function after each iterations\")\n",
    "plt.show()"
   ]
  },
  {
   "cell_type": "code",
   "execution_count": 10,
   "metadata": {
    "colab": {
     "base_uri": "https://localhost:8080/",
     "height": 340
    },
    "colab_type": "code",
    "id": "Os06WBPArybj",
    "outputId": "7a6fae0e-fb45-48e1-dea2-101d7161e1ef"
   },
   "outputs": [
    {
     "name": "stdout",
     "output_type": "stream",
     "text": [
      "[1.34926868e+020 2.88086682e+029 6.15103114e+038 1.31332638e+048\n",
      " 2.80412528e+057 5.98717780e+066 1.27834153e+076 2.72942800e+085\n",
      " 5.82768926e+094 1.24428862e+104 2.65672054e+113 5.67244922e+122\n",
      " 1.21114282e+132 2.58594988e+141 5.52134452e+150 1.17887997e+160\n",
      " 2.51706444e+169 5.37426500e+178 1.14747656e+188 2.45001399e+197\n",
      " 5.23110344e+206 1.11690967e+216 2.38474966e+225 5.09175547e+234\n",
      " 1.08715704e+244 2.32122386e+253 4.95611949e+262 1.05819697e+272\n",
      " 2.25939028e+281 4.82409664e+290 1.03000834e+300             inf\n",
      "             inf             inf             inf             inf\n",
      "             inf             inf             inf             inf\n",
      "             inf             inf             inf             inf\n",
      "             inf             inf             inf             inf\n",
      "             inf             inf             inf             inf\n",
      "             inf             inf             inf             inf\n",
      "             inf             inf             inf             inf\n",
      "             inf             inf             inf             inf\n",
      "             inf             nan             nan             nan\n",
      "             nan             nan             nan             nan\n",
      "             nan             nan             nan             nan]\n"
     ]
    }
   ],
   "source": [
    "print(J_history[:76])"
   ]
  },
  {
   "cell_type": "markdown",
   "metadata": {
    "colab_type": "text",
    "id": "bt7zS3tEoIKa"
   },
   "source": [
    "As you can see, number become too great and computer can not support them anymore."
   ]
  },
  {
   "cell_type": "code",
   "execution_count": 11,
   "metadata": {
    "colab": {
     "base_uri": "https://localhost:8080/",
     "height": 187
    },
    "colab_type": "code",
    "id": "xLYIv_i7n2Jm",
    "outputId": "a4d07de2-5516-4ce7-87ad-4c5f7a64ddbb"
   },
   "outputs": [
    {
     "name": "stdout",
     "output_type": "stream",
     "text": [
      "w0: 3404.126595744681, w1: 7642091.281914894, w2:11203.677021276595\n",
      "w0: -152887437.86656326, w1: -353114222127.88116, w2:-510013688.1926549\n",
      "w0: 7064553437855.206, w1: 1.6316521652734972e+16, w2:23566467308134.695\n",
      "w0: -3.264352774652003e+17, w1: -7.539454998883625e+20, w2:-1.0889472862547877e+18\n",
      "w0: 1.5083754594745128e+22, w1: 3.4837928628411908e+25, w2:5.0317520091657106e+22\n",
      "w0: -6.969824292313177e+26, w1: -1.609773214772199e+30, w2:-2.325046271874287e+27\n",
      "w0: 3.2205808149810784e+31, w1: 7.438357861737627e+34, w2:1.074345507590473e+32\n",
      "w0: -1.4881495358876319e+36, w1: -3.4370784139990596e+39, w2:-4.9642808560080104e+36\n",
      "w0: 6.876365377515248e+40, w1: 1.588187640816008e+44, w2:2.2938695459898213e+41\n",
      "w0: -3.177395796914108e+45, w1: -7.338616343948817e+48, w2:-1.0599395253093745e+46\n"
     ]
    }
   ],
   "source": [
    "for w in W_history[:10]:\n",
    "  print('w0: '+str(np.squeeze(w[0]))+', w1: '+str(np.squeeze(w[1]))+', w2:'+str(np.squeeze(w[2])))"
   ]
  },
  {
   "cell_type": "markdown",
   "metadata": {
    "colab_type": "text",
    "id": "TaTF_UBxsPwF"
   },
   "source": [
    "Take a look at our data:\n",
    "\n",
    "$X_1$ is the square meter of our house\n",
    "\n",
    "$X_2$ is the number of rooms"
   ]
  },
  {
   "cell_type": "code",
   "execution_count": 12,
   "metadata": {
    "colab": {
     "base_uri": "https://localhost:8080/",
     "height": 187
    },
    "colab_type": "code",
    "id": "SOVHx_wynxgX",
    "outputId": "b9aef19a-fbde-4ace-8d27-eedc87fa965c"
   },
   "outputs": [
    {
     "name": "stdout",
     "output_type": "stream",
     "text": [
      "[[2.104e+03 3.000e+00]\n",
      " [1.600e+03 3.000e+00]\n",
      " [2.400e+03 3.000e+00]\n",
      " [1.416e+03 2.000e+00]\n",
      " [3.000e+03 4.000e+00]\n",
      " [1.985e+03 4.000e+00]\n",
      " [1.534e+03 3.000e+00]\n",
      " [1.427e+03 3.000e+00]\n",
      " [1.380e+03 3.000e+00]\n",
      " [1.494e+03 3.000e+00]]\n"
     ]
    }
   ],
   "source": [
    "print(X[:10, :])"
   ]
  },
  {
   "cell_type": "code",
   "execution_count": 13,
   "metadata": {
    "colab": {
     "base_uri": "https://localhost:8080/",
     "height": 85
    },
    "colab_type": "code",
    "id": "Uowi5bDlwDmq",
    "outputId": "8745b406-466c-4f66-e918-a0d999512306"
   },
   "outputs": [
    {
     "name": "stdout",
     "output_type": "stream",
     "text": [
      "x1 mean: 2000.6808510638298\n",
      "x1 std: 786.2026187430467\n",
      "x2 mean: 3.1702127659574466\n",
      "x2 std: 0.7528428090618781\n"
     ]
    }
   ],
   "source": [
    "print('x1 mean: '+str(np.mean(X[:, 0])))\n",
    "print('x1 std: '+str(np.std(X[:, 0])))\n",
    "print('x2 mean: '+str(np.mean(X[:, 1])))\n",
    "print('x2 std: '+str(np.std(X[:, 1])))"
   ]
  },
  {
   "cell_type": "markdown",
   "metadata": {
    "colab_type": "text",
    "id": "8DtDlpsFth23"
   },
   "source": [
    "$X_1$ is quite large and it is the cause of our problem."
   ]
  },
  {
   "cell_type": "markdown",
   "metadata": {
    "colab_type": "text",
    "id": "fYFul7NjuPBn"
   },
   "source": [
    "### Standardization from scratch\n",
    "\n",
    "It's your turn, implement a function which can normalize data:\n",
    "$$ x'=\\frac{x-\\bar{x}}{\\sigma}$$\n",
    "\n",
    "Tips : read the documentation for np.mean() and np.std()"
   ]
  },
  {
   "cell_type": "code",
   "execution_count": 0,
   "metadata": {
    "colab": {},
    "colab_type": "code",
    "id": "qWscmUsGt-8x"
   },
   "outputs": [],
   "source": [
    "def standardization(X):\n",
    "  \"\"\"standardization take a data set \n",
    "  substract their observations by their mean\n",
    "  and divide them by their standard deviation\n",
    "  INPUT:\n",
    "    X          shape(m, n-1)\n",
    "  OUPUT:\n",
    "    X          shape(m, n-1)\n",
    "    mean_X.    shape(2,)\n",
    "    std_X.     shape(2,)\"\"\"\n",
    "  \n",
    "### Your code start here ###\n",
    "  return (X - np.mean(X, axis=0)) / np.std(X, axis=0), np.mean(X, axis=0), np.std(X, axis=0)\n",
    "### Your code end here ###"
   ]
  },
  {
   "cell_type": "code",
   "execution_count": 15,
   "metadata": {
    "colab": {
     "base_uri": "https://localhost:8080/",
     "height": 85
    },
    "colab_type": "code",
    "id": "ubq2dRMlvvUe",
    "outputId": "43ea873d-2691-436b-ce02-9147b17c9cb7"
   },
   "outputs": [
    {
     "name": "stdout",
     "output_type": "stream",
     "text": [
      "x1 mean: 2000.6808510638298\n",
      "x1 std: 786.2026187430467\n",
      "x2 mean: 3.1702127659574466\n",
      "x2 std: 0.7528428090618782\n"
     ]
    }
   ],
   "source": [
    "standardize_X, mean_X, std_X = standardization(X)\n",
    "\n",
    "print('x1 mean: '+str(mean_X[0]))\n",
    "print('x1 std: '+str(std_X[0]))\n",
    "print('x2 mean: '+str(mean_X[1]))\n",
    "print('x2 std: '+str(std_X[1]))"
   ]
  },
  {
   "cell_type": "markdown",
   "metadata": {
    "colab_type": "text",
    "id": "GESF0ay8uOlF"
   },
   "source": [
    "Expected values : \n",
    "\n",
    "x1 mean: 2000\n",
    "\n",
    "x1 std: 786\n",
    "\n",
    "x2 mean: 3.1\n",
    "\n",
    "x2 std: 0.75"
   ]
  },
  {
   "cell_type": "markdown",
   "metadata": {
    "colab_type": "text",
    "id": "YtaShUQ1zDB9"
   },
   "source": [
    "Now we can try to train a model with our new data."
   ]
  },
  {
   "cell_type": "code",
   "execution_count": 16,
   "metadata": {
    "colab": {
     "base_uri": "https://localhost:8080/",
     "height": 68
    },
    "colab_type": "code",
    "id": "IGMQtCkgzCVt",
    "outputId": "92580ef4-c436-47ce-9ffa-6a9558362af2"
   },
   "outputs": [
    {
     "name": "stdout",
     "output_type": "stream",
     "text": [
      "[[294804.28212715]\n",
      " [ 83217.03697925]\n",
      " [ 15220.03137818]]\n"
     ]
    }
   ],
   "source": [
    "alpha = 0.01\n",
    "num_iters = 200\n",
    "W = np.array([0, 0, 0]).reshape(3, 1)\n",
    "W, J_history, W_history = lr_fit(standardize_X, W, Y, alpha, num_iters)\n",
    "print(W)"
   ]
  },
  {
   "cell_type": "markdown",
   "metadata": {
    "colab_type": "text",
    "id": "PpoDY0QVzSoG"
   },
   "source": [
    "We have good value for W."
   ]
  },
  {
   "cell_type": "code",
   "execution_count": 17,
   "metadata": {
    "colab": {
     "base_uri": "https://localhost:8080/",
     "height": 376
    },
    "colab_type": "code",
    "id": "52bHYt9HzQp9",
    "outputId": "f9669620-1531-4841-92c3-9402ababdc10"
   },
   "outputs": [
    {
     "data": {
      "image/png": "[encoded data removed]",
      "text/plain": [
       "<matplotlib.figure.Figure at 0x7f63144327b8>"
      ]
     },
     "metadata": {
      "tags": []
     },
     "output_type": "display_data"
    }
   ],
   "source": [
    "plt.plot(J_history)\n",
    "plt.xlabel(\"Iterations\")\n",
    "plt.ylabel(\"J(W)\")\n",
    "plt.title(\"Minimization of the cost function after each iterations\")\n",
    "plt.show()"
   ]
  },
  {
   "cell_type": "markdown",
   "metadata": {
    "colab_type": "text",
    "id": "B6CVeu5OzW5r"
   },
   "source": [
    "Our train converge to a minimum global."
   ]
  },
  {
   "cell_type": "markdown",
   "metadata": {
    "colab_type": "text",
    "id": "wMYZokye19O9"
   },
   "source": [
    "### Standardization using sklearn"
   ]
  },
  {
   "cell_type": "code",
   "execution_count": 18,
   "metadata": {
    "colab": {
     "base_uri": "https://localhost:8080/",
     "height": 476
    },
    "colab_type": "code",
    "id": "4P8vbhra2jZT",
    "outputId": "ff89d93c-b2a2-4d0d-a11b-d3978208eb98"
   },
   "outputs": [
    {
     "name": "stdout",
     "output_type": "stream",
     "text": [
      "Mean for X1 and X2: [2000.68085106    3.17021277]\n",
      "\n",
      "Standard deviation for X1 and X2: [6.18114558e+05 5.66772295e-01]\n",
      "\n",
      "First 10 rows of our data set standardize:\n",
      "[[ 0.13141542 -0.22609337]\n",
      " [-0.5096407  -0.22609337]\n",
      " [ 0.5079087  -0.22609337]\n",
      " [-0.74367706 -1.5543919 ]\n",
      " [ 1.27107075  1.10220517]\n",
      " [-0.01994505  1.10220517]\n",
      " [-0.59358852 -0.22609337]\n",
      " [-0.72968575 -0.22609337]\n",
      " [-0.78946678 -0.22609337]\n",
      " [-0.64446599 -0.22609337]]\n",
      "\n",
      "Transform our standardize data in the initial scale:\n",
      "[[2.104e+03 3.000e+00]\n",
      " [1.600e+03 3.000e+00]\n",
      " [2.400e+03 3.000e+00]\n",
      " [1.416e+03 2.000e+00]\n",
      " [3.000e+03 4.000e+00]\n",
      " [1.985e+03 4.000e+00]\n",
      " [1.534e+03 3.000e+00]\n",
      " [1.427e+03 3.000e+00]\n",
      " [1.380e+03 3.000e+00]\n",
      " [1.494e+03 3.000e+00]]\n"
     ]
    }
   ],
   "source": [
    "# Import StandardScaler from sklearn\n",
    "from sklearn.preprocessing import StandardScaler\n",
    "\n",
    "# Initialize the function\n",
    "scaler = StandardScaler(copy=True, with_mean=True, with_std=True)\n",
    "\n",
    "# Compute mean and standard deviation\n",
    "scaler.fit(X)\n",
    "\n",
    "# see the mean and the std\n",
    "print('Mean for X1 and X2: '+str(scaler.mean_))\n",
    "print('\\nStandard deviation for X1 and X2: '+str(scaler.var_))\n",
    "\n",
    "new_X = scaler.transform(X)\n",
    "print('\\nFirst 10 rows of our data set standardize:')\n",
    "print(new_X[:10, :])\n",
    "\n",
    "initial_X = scaler.inverse_transform(new_X)\n",
    "print('\\nTransform our standardize data in the initial scale:')\n",
    "print(initial_X[:10, :])"
   ]
  },
  {
   "cell_type": "markdown",
   "metadata": {
    "colab_type": "text",
    "id": "asZS8KGxI-UT"
   },
   "source": [
    "## 2 Regression metrics"
   ]
  },
  {
   "cell_type": "markdown",
   "metadata": {
    "colab_type": "text",
    "id": "vErgc4v1JMYq"
   },
   "source": [
    "In this part you will learn more about performance metrics for regression"
   ]
  },
  {
   "cell_type": "markdown",
   "metadata": {
    "colab_type": "text",
    "id": "kPAjdlrfJUgl"
   },
   "source": [
    "### Root Mean Square Error (RMSE)"
   ]
  },
  {
   "cell_type": "markdown",
   "metadata": {
    "colab_type": "text",
    "id": "SWVecwdfJZGm"
   },
   "source": [
    "You will implement a function which compute RMSE as a performance metrics:\n",
    "$$\\sqrt{\\frac{1}{N}\\sum^{N}_{i=1}(y_i-\\hat{y}_i)^2}$$"
   ]
  },
  {
   "cell_type": "code",
   "execution_count": 0,
   "metadata": {
    "colab": {},
    "colab_type": "code",
    "id": "5ExelUZYNYsS"
   },
   "outputs": [],
   "source": [
    "def root_mean_square_error(y_predict, y_true):\n",
    "  \"\"\"compute root square error for \n",
    "  y_predict with respect to y_true\n",
    "  INPUT:\n",
    "    y_predict  shape(1, m)\n",
    "    y_true.    shape(1, m)\n",
    "  OUPUT:\n",
    "    RMSE.      constant\"\"\"\n",
    "  \n",
    "  _, m = y_true.shape\n",
    "  \n",
    "### Your code start here ###\n",
    "  return np.sqrt(np.mean((y_true-y_predict)**2))\n",
    "### Your code end here ###"
   ]
  },
  {
   "cell_type": "code",
   "execution_count": 20,
   "metadata": {
    "colab": {
     "base_uri": "https://localhost:8080/",
     "height": 34
    },
    "colab_type": "code",
    "id": "GF8TyPJxOjMr",
    "outputId": "6ebb7989-cc5b-4f7b-b0df-77be05245458"
   },
   "outputs": [
    {
     "name": "stdout",
     "output_type": "stream",
     "text": [
      "Root Mean Square Error: 81789.61591169941\n"
     ]
    }
   ],
   "source": [
    "standardize_X_1 = np.stack(np.hstack((np.ones(m).reshape(m, 1), standardize_X)), axis=1)\n",
    "\n",
    "y_predict = predict(standardize_X_1, W)\n",
    "\n",
    "RMSE = root_mean_square_error(y_predict, Y)\n",
    "\n",
    "print('Root Mean Square Error: '+str(RMSE))"
   ]
  },
  {
   "cell_type": "markdown",
   "metadata": {
    "colab_type": "text",
    "id": "g9X8b907RZd4"
   },
   "source": [
    "Expected values : \n",
    "\n",
    "Root Mean Square Error: 81789.61"
   ]
  },
  {
   "cell_type": "markdown",
   "metadata": {
    "colab_type": "text",
    "id": "whlVpJ1XSDdd"
   },
   "source": [
    "### RMSE with sklearn"
   ]
  },
  {
   "cell_type": "markdown",
   "metadata": {
    "colab_type": "text",
    "id": "Fwne4mTiSHGY"
   },
   "source": [
    "sklearn doesn't implemented RMSE, if we want to use RMSE we just have to apply np.sqrt to MSE."
   ]
  },
  {
   "cell_type": "code",
   "execution_count": 0,
   "metadata": {
    "colab": {},
    "colab_type": "code",
    "id": "tzS_1W8yRY4x"
   },
   "outputs": [],
   "source": [
    "from sklearn.metrics import mean_squared_error\n",
    "\n",
    "def root_mean_square_error_sklearn(y_predict, y_true):\n",
    "  \"\"\"compute root square error for \n",
    "  y_predict with respect to y_true using sklearn\n",
    "  INPUT:\n",
    "    y_predict  shape(1, m)\n",
    "    y_true.    shape(1, m)\n",
    "  OUPUT:\n",
    "    RMSE.      constant\"\"\"\n",
    "  \n",
    "  return np.sqrt(mean_squared_error(y_predict, Y))"
   ]
  },
  {
   "cell_type": "code",
   "execution_count": 22,
   "metadata": {
    "colab": {
     "base_uri": "https://localhost:8080/",
     "height": 34
    },
    "colab_type": "code",
    "id": "ywb63p9-RBOa",
    "outputId": "2a6465fb-9325-4943-e20a-005aec843ca3"
   },
   "outputs": [
    {
     "name": "stdout",
     "output_type": "stream",
     "text": [
      "Root Mean Square Error: 81789.61591169941\n"
     ]
    }
   ],
   "source": [
    "RMSE = root_mean_square_error_sklearn(y_predict, Y)\n",
    "\n",
    "print('Root Mean Square Error: '+str(RMSE))"
   ]
  },
  {
   "cell_type": "markdown",
   "metadata": {
    "colab_type": "text",
    "id": "0A3UreYdLhCz"
   },
   "source": [
    "### R-squared"
   ]
  },
  {
   "cell_type": "markdown",
   "metadata": {
    "colab_type": "text",
    "id": "u2tMpFsELkmU"
   },
   "source": [
    "You will implement a function which compute R-squared as a performance metrics:\n",
    "$$1-\\frac{\\frac{1}{N}\\sum^{N}_{i=1}(y_i-\\hat{y}_i)^2}{\\frac{1}{N}\\sum^{N}_{i=1}(y_i-\\bar{y}_i)^2}$$"
   ]
  },
  {
   "cell_type": "code",
   "execution_count": 0,
   "metadata": {
    "colab": {},
    "colab_type": "code",
    "id": "6GpR7c4-NZTL"
   },
   "outputs": [],
   "source": [
    "def R_squared(y_predict, y_true):\n",
    "  \"\"\"compute R squared for \n",
    "  y_predict with respect to y_true\n",
    "  INPUT:\n",
    "    y_predict  shape(1, m)\n",
    "    y_true     shape(1, m)\n",
    "  OUPUT:\n",
    "    R-squared  constant\"\"\"\n",
    "  \n",
    "  _, m = y_true.shape\n",
    "  \n",
    "### Your code start here ###\n",
    "  return 1 - (np.mean((y_true-y_predict)**2))/(np.mean((y_true-np.mean(y_true))**2))\n",
    "### Your code end here ###"
   ]
  },
  {
   "cell_type": "code",
   "execution_count": 24,
   "metadata": {
    "colab": {
     "base_uri": "https://localhost:8080/",
     "height": 34
    },
    "colab_type": "code",
    "id": "BZseluPvTnm-",
    "outputId": "911e72d0-3d62-422c-da57-fbe4e16aef69"
   },
   "outputs": [
    {
     "name": "stdout",
     "output_type": "stream",
     "text": [
      "Root Mean Square Error: 0.5628412945669833\n"
     ]
    }
   ],
   "source": [
    "R2 = R_squared(y_predict, Y)\n",
    "\n",
    "print('Root Mean Square Error: '+str(R2))"
   ]
  },
  {
   "cell_type": "markdown",
   "metadata": {
    "colab_type": "text",
    "id": "i5XzgXVgUr8-"
   },
   "source": [
    "Expected values :\n",
    "R_squared: 0.56"
   ]
  },
  {
   "cell_type": "markdown",
   "metadata": {
    "colab_type": "text",
    "id": "79dk2GGCVV4I"
   },
   "source": [
    "### R-squared with sklearn"
   ]
  },
  {
   "cell_type": "code",
   "execution_count": 25,
   "metadata": {
    "colab": {
     "base_uri": "https://localhost:8080/",
     "height": 34
    },
    "colab_type": "code",
    "id": "YSBVITxO6Ksd",
    "outputId": "5853e988-98aa-46d0-a9a9-270cb0463b73"
   },
   "outputs": [
    {
     "name": "stdout",
     "output_type": "stream",
     "text": [
      "Root Mean Square Error: 0.5628412945669833\n"
     ]
    }
   ],
   "source": [
    "from sklearn.metrics import r2_score\n",
    "\n",
    "R2 = r2_score(np.squeeze(Y), np.squeeze(y_predict))\n",
    "\n",
    "print('Root Mean Square Error: '+str(R2))"
   ]
  },
  {
   "cell_type": "markdown",
   "metadata": {
    "colab_type": "text",
    "id": "1tng8KhcVkqt"
   },
   "source": [
    "## 3 Classification metrics"
   ]
  },
  {
   "cell_type": "markdown",
   "metadata": {
    "colab_type": "text",
    "id": "zTGb2iwhWXop"
   },
   "source": [
    "In this part you will learn more about performance metrics for regression"
   ]
  },
  {
   "cell_type": "markdown",
   "metadata": {
    "colab_type": "text",
    "id": "PCWPzI8sWYar"
   },
   "source": [
    "### Accuracy score from scratch"
   ]
  },
  {
   "cell_type": "markdown",
   "metadata": {
    "colab_type": "text",
    "id": "9NYy8UIFWcvR"
   },
   "source": [
    "You have to implement Accuracy score:\n",
    "$$\\frac{1}{N}\\sum^{N}_{i=1}[\\hat{y}_i=y_i]$$"
   ]
  },
  {
   "cell_type": "code",
   "execution_count": 0,
   "metadata": {
    "colab": {},
    "colab_type": "code",
    "id": "0AGomwXzXFbg"
   },
   "outputs": [],
   "source": [
    "def accuracy_score(y_predict, y_true):\n",
    "  \"\"\"compute accuracy score for \n",
    "  y_predict with respect to y_true\n",
    "  INPUT:\n",
    "    y_predict  shape(1, m)\n",
    "    y_true     shape(1, m)\n",
    "  OUPUT:\n",
    "    accuracy   constant\"\"\"\n",
    "  \n",
    "  m = len(y_true)\n",
    "  \n",
    "  ### Your code start here ###\n",
    "  return np.sum(y_predict==y_true)/m\n",
    "  ### Your code end here ###\n",
    "  "
   ]
  },
  {
   "cell_type": "code",
   "execution_count": 27,
   "metadata": {
    "colab": {
     "base_uri": "https://localhost:8080/",
     "height": 34
    },
    "colab_type": "code",
    "id": "uxreykdYWcDa",
    "outputId": "b8e99fe9-d1e1-4ca9-e0bc-53bcfe84878c"
   },
   "outputs": [
    {
     "name": "stdout",
     "output_type": "stream",
     "text": [
      "Accuracy score: 0.5\n"
     ]
    }
   ],
   "source": [
    "y_predict = np.zeros(100)\n",
    "y_true = np.hstack((np.zeros(25),np.ones(25),np.zeros(25),np.ones(25)))\n",
    "\n",
    "accuracy = accuracy_score(y_predict, y_true)\n",
    "\n",
    "print(\"Accuracy score: \"+str(accuracy))"
   ]
  },
  {
   "cell_type": "markdown",
   "metadata": {
    "colab_type": "text",
    "id": "38VJ29SuYZF7"
   },
   "source": [
    "Expected values :\n",
    "\n",
    "Accuracy score: 0.5"
   ]
  },
  {
   "cell_type": "markdown",
   "metadata": {
    "colab_type": "text",
    "id": "nGaJB5EyZjfH"
   },
   "source": [
    "Now you want to predict rare events you can have 1% in one class and 99% in the other class. "
   ]
  },
  {
   "cell_type": "code",
   "execution_count": 0,
   "metadata": {
    "colab": {},
    "colab_type": "code",
    "id": "w6juoiRAaID9"
   },
   "outputs": [],
   "source": [
    "y_true = np.hstack((np.zeros(990),np.ones(10)))"
   ]
  },
  {
   "cell_type": "markdown",
   "metadata": {
    "colab_type": "text",
    "id": "Lt5BrST8aS-f"
   },
   "source": [
    "Imagine you have a very poor model which predict all your data at 0."
   ]
  },
  {
   "cell_type": "code",
   "execution_count": 0,
   "metadata": {
    "colab": {},
    "colab_type": "code",
    "id": "RpN8BOeVXDUZ"
   },
   "outputs": [],
   "source": [
    "y_predict = np.zeros(1000)"
   ]
  },
  {
   "cell_type": "markdown",
   "metadata": {
    "colab_type": "text",
    "id": "wMq5Kfhiaqei"
   },
   "source": [
    "Try to use accuracy score to measure the parformance of your model."
   ]
  },
  {
   "cell_type": "code",
   "execution_count": 30,
   "metadata": {
    "colab": {
     "base_uri": "https://localhost:8080/",
     "height": 34
    },
    "colab_type": "code",
    "id": "lStyZkuaa006",
    "outputId": "32801638-950a-4f0a-8053-bb603beeabb5"
   },
   "outputs": [
    {
     "data": {
      "text/plain": [
       "0.99"
      ]
     },
     "execution_count": 30,
     "metadata": {
      "tags": []
     },
     "output_type": "execute_result"
    }
   ],
   "source": [
    "accuracy_score(y_predict, y_true)"
   ]
  },
  {
   "cell_type": "markdown",
   "metadata": {
    "colab_type": "text",
    "id": "rRaI9S_ebbAD"
   },
   "source": [
    "if you just see the performance and not the prediction you can think that your model is very good whereas it has not understand how to predict your data.\n",
    "\n",
    "Accuracy score can be meaningful when your dataset is balanced."
   ]
  },
  {
   "cell_type": "markdown",
   "metadata": {
    "colab_type": "text",
    "id": "DuJ-tB2gb9Fi"
   },
   "source": [
    "### Accuracy score from sklearn"
   ]
  },
  {
   "cell_type": "code",
   "execution_count": 31,
   "metadata": {
    "colab": {
     "base_uri": "https://localhost:8080/",
     "height": 34
    },
    "colab_type": "code",
    "id": "uI3DQbFPbqOT",
    "outputId": "250f2c25-d7f1-4b80-cec8-2e6adfdf83c9"
   },
   "outputs": [
    {
     "name": "stdout",
     "output_type": "stream",
     "text": [
      "Accuracy score: 0.5\n"
     ]
    }
   ],
   "source": [
    "from sklearn.metrics import accuracy_score\n",
    "\n",
    "y_predict = np.zeros(100)\n",
    "y_true = np.hstack((np.zeros(25),np.ones(25),np.zeros(25),np.ones(25)))\n",
    "\n",
    "accuracy = accuracy_score(y_predict, y_true)\n",
    "\n",
    "print(\"Accuracy score: \"+str(accuracy))"
   ]
  },
  {
   "cell_type": "markdown",
   "metadata": {
    "colab_type": "text",
    "id": "EAzONAnOdxT4"
   },
   "source": [
    "### Cross-entropy loss or log loss from scratch"
   ]
  },
  {
   "cell_type": "markdown",
   "metadata": {
    "colab_type": "text",
    "id": "i12MCZo3izJf"
   },
   "source": [
    "Let's generate two distributions."
   ]
  },
  {
   "cell_type": "code",
   "execution_count": 4,
   "metadata": {
    "colab": {},
    "colab_type": "code",
    "id": "SDPqn6Bhiwo7"
   },
   "outputs": [],
   "source": [
    "x_11 = 1 * np.random.randn(100) + 0\n",
    "x_21 = 2 * np.random.randn(100) + 2\n",
    "x_12 = 1 * np.random.randn(100) + 0\n",
    "x_22 = 2 * np.random.randn(100) + 7\n",
    "\n",
    "x_1 = np.concatenate((x_11, x_12))\n",
    "x_2 = np.concatenate((x_21, x_22))\n",
    "X = np.stack((x_1, x_2), axis=-1)\n",
    "\n",
    "Y = np.concatenate((np.repeat(0, 100), np.repeat(1, 100)))"
   ]
  },
  {
   "cell_type": "markdown",
   "metadata": {
    "colab_type": "text",
    "id": "IBtHJd39i6hq"
   },
   "source": [
    "Take the previous TP as an example and use sklearn to create a model with X and Y"
   ]
  },
  {
   "cell_type": "code",
   "execution_count": 5,
   "metadata": {
    "colab": {
     "base_uri": "https://localhost:8080/",
     "height": 68
    },
    "colab_type": "code",
    "id": "T7u1mBCki5sX",
    "outputId": "8c148c81-f34b-4915-9d2a-11f0afb28a10"
   },
   "outputs": [
    {
     "name": "stdout",
     "output_type": "stream",
     "text": [
      "w_0 : -6.188504732118498\n",
      "w_1 : -0.3509611687176448\n",
      "w_2 : 1.400374187601902\n",
      "y_predict : shape(200,)\n"
     ]
    }
   ],
   "source": [
    "from sklearn.linear_model import LogisticRegression\n",
    "\n",
    "\n",
    "\n",
    "log_reg = LogisticRegression(solver='lbfgs', random_state=123)\n",
    "### Your code start here ###\n",
    "\n",
    "log_reg.fit(X, Y)\n",
    "\n",
    "# Do not take the predict but the probability to belong to class 1\n",
    "y_predict = log_reg.predict_proba(X)[:, 1]\n",
    "### Your code end here ###\n",
    "\n",
    "w_0 = np.squeeze(log_reg.intercept_)\n",
    "w_1, w_2 = np.squeeze(log_reg.coef_)\n",
    "print(\"w_0 : \"+str(w_0)+\"\\nw_1 : \"+str(w_1)+\"\\nw_2 : \"+str(w_2)+'\\ny_predict : shape'+str(y_predict.shape))"
   ]
  },
  {
   "cell_type": "markdown",
   "metadata": {
    "colab_type": "text",
    "id": "V--hllFLjPcC"
   },
   "source": [
    "Expected values :\n",
    "\n",
    "w_0 : -6.18\n",
    "\n",
    "w_1 : -0.35\n",
    "\n",
    "w_2 : 1.40\n",
    "\n",
    "y_predict : shape(200,)"
   ]
  },
  {
   "cell_type": "code",
   "execution_count": 34,
   "metadata": {
    "colab": {
     "base_uri": "https://localhost:8080/",
     "height": 350
    },
    "colab_type": "code",
    "id": "iDSCXUbfjGQU",
    "outputId": "9f4e2fc7-8084-4631-830f-4519adfc106e"
   },
   "outputs": [
    {
     "data": {
      "image/png": "[encoded data removed]",
      "text/plain": [
       "<matplotlib.figure.Figure at 0x7f631089de48>"
      ]
     },
     "metadata": {
      "tags": []
     },
     "output_type": "display_data"
    }
   ],
   "source": [
    "x = np.array(range(-3, 4))\n",
    "y = (-1/w_2) * (x * w_1 + w_0)\n",
    "\n",
    "plt.plot(x, y, c='red')\n",
    "\n",
    "plt.scatter(x_11, x_21, c = 'blue')\n",
    "plt.scatter(x_12, x_22, c = 'orange')\n",
    "\n",
    "plt.show()"
   ]
  },
  {
   "cell_type": "markdown",
   "metadata": {
    "colab_type": "text",
    "id": "N018aQEqea1Y"
   },
   "source": [
    "You have to implement cross-entropy from scratch:\n",
    "$$ -\\frac{1}{N}\\sum^{N}_{i=1}y_i \\log{(\\hat{y}_i)}+(1-y_i)\\log{(1-\\hat{y}_i)}$$"
   ]
  },
  {
   "cell_type": "code",
   "execution_count": 0,
   "metadata": {
    "colab": {},
    "colab_type": "code",
    "id": "wlZj5YiUd6Tx"
   },
   "outputs": [],
   "source": [
    "def log_loss_scratch(y_predict, y_true):\n",
    "  \"\"\"compute accuracy score for \n",
    "  y_predict with respect to y_true\n",
    "  INPUT:\n",
    "    y_predict  shape(1, m)\n",
    "    y_true     shape(1, m)\n",
    "  OUPUT:\n",
    "    log_loss   constant\"\"\"\n",
    "  \n",
    "  m = len(y_true)\n",
    "  \n",
    "  ### Your code start here ###\n",
    "  return -(1/m)*(np.sum(y_true*np.log(y_predict)+(1-y_true)*np.log(1-y_predict)))\n",
    "  ### Your code end here ###"
   ]
  },
  {
   "cell_type": "code",
   "execution_count": 36,
   "metadata": {
    "colab": {
     "base_uri": "https://localhost:8080/",
     "height": 34
    },
    "colab_type": "code",
    "id": "jk_gXXBcXo7V",
    "outputId": "9019971e-1f45-49fd-dc2a-cedb4735dd0c"
   },
   "outputs": [
    {
     "name": "stdout",
     "output_type": "stream",
     "text": [
      "Accuracy score: 0.22174346957379598\n"
     ]
    }
   ],
   "source": [
    "log_loss = log_loss_scratch(y_predict, Y)\n",
    "\n",
    "print(\"Accuracy score: \"+str(log_loss))"
   ]
  },
  {
   "cell_type": "markdown",
   "metadata": {
    "colab_type": "text",
    "id": "EkODfIUSlVCi"
   },
   "source": [
    "Expected values :\n",
    "\n",
    "Accuracy score: 0.22"
   ]
  },
  {
   "cell_type": "markdown",
   "metadata": {
    "colab_type": "text",
    "id": "8svLQ_xjlitH"
   },
   "source": [
    "### Cross entropy log loss from sklean"
   ]
  },
  {
   "cell_type": "code",
   "execution_count": 37,
   "metadata": {
    "colab": {
     "base_uri": "https://localhost:8080/",
     "height": 34
    },
    "colab_type": "code",
    "id": "NRT9db2wbIP2",
    "outputId": "5f56c50c-0a67-4d8c-d2e0-a696da78a790"
   },
   "outputs": [
    {
     "name": "stdout",
     "output_type": "stream",
     "text": [
      "Accuracy score: 0.22174346957379598\n"
     ]
    }
   ],
   "source": [
    "from sklearn.metrics import log_loss\n",
    "\n",
    "log_loss = log_loss(Y, y_predict)\n",
    "\n",
    "print(\"Accuracy score: \"+str(log_loss))"
   ]
  },
  {
   "cell_type": "markdown",
   "metadata": {
    "colab_type": "text",
    "id": "j2VzSHF62dq-"
   },
   "source": [
    "### Precision, Recall et $F_1$ score"
   ]
  },
  {
   "cell_type": "markdown",
   "metadata": {
    "colab_type": "text",
    "id": "01wXW8Wd2f5_"
   },
   "source": [
    "It's not worth to implement confusion matrix, precision and recall but you will use the sklearn implementation."
   ]
  },
  {
   "cell_type": "markdown",
   "metadata": {
    "colab_type": "text",
    "id": "UecVFhxJ6VM8"
   },
   "source": [
    "Transform soft prediction y_predict into hard prediction y_predict_hard"
   ]
  },
  {
   "cell_type": "code",
   "execution_count": 0,
   "metadata": {
    "colab": {},
    "colab_type": "code",
    "id": "C4jJ8obLAXwP"
   },
   "outputs": [],
   "source": [
    "def threshold(y_predict, thresh):\n",
    "    \"\"\"compute accuracy score for \n",
    "  y_predict with respect to y_true\n",
    "  INPUT:\n",
    "    y_predict      shape(1, m)\n",
    "    tresh          constant\n",
    "  OUPUT:\n",
    "    y_predict_hard shape(1,m)\"\"\"\n",
    "    \n",
    "### Your code start here ###\n",
    "    return np.array(y_predict>=thresh)\n",
    "### Your code end here ###"
   ]
  },
  {
   "cell_type": "code",
   "execution_count": 39,
   "metadata": {
    "colab": {
     "base_uri": "https://localhost:8080/",
     "height": 34
    },
    "colab_type": "code",
    "id": "xwecWSEihMrn",
    "outputId": "5ff7b979-9f98-422b-8340-f01753098896"
   },
   "outputs": [
    {
     "name": "stdout",
     "output_type": "stream",
     "text": [
      "Number observation predict belong to class 1: 102\n"
     ]
    }
   ],
   "source": [
    "from sklearn.metrics import confusion_matrix\n",
    "\n",
    "\n",
    "y_predict_hard = threshold(y_predict, 0.5)\n",
    "\n",
    "\n",
    "print('Number observation predict belong to class 1: '+str(sum(y_predict_hard)))"
   ]
  },
  {
   "cell_type": "markdown",
   "metadata": {
    "colab_type": "text",
    "id": "I3ukT3n77MeR"
   },
   "source": [
    "Expected result:\n",
    "\n",
    "Number observation predict belong to class 1: 102"
   ]
  },
  {
   "cell_type": "code",
   "execution_count": 40,
   "metadata": {
    "colab": {
     "base_uri": "https://localhost:8080/",
     "height": 51
    },
    "colab_type": "code",
    "id": "wD-mUYONh1oj",
    "outputId": "2304addc-1271-4f8b-a2df-0e347e5d14d2"
   },
   "outputs": [
    {
     "name": "stdout",
     "output_type": "stream",
     "text": [
      "[[89 11]\n",
      " [ 9 91]]\n"
     ]
    }
   ],
   "source": [
    "print(confusion_matrix(Y, y_predict_hard))"
   ]
  },
  {
   "cell_type": "markdown",
   "metadata": {
    "colab_type": "text",
    "id": "HzIcVDPi8mRv"
   },
   "source": [
    "Complete with numbers above:\n",
    "\n",
    "TN =\n",
    "\n",
    "FP = \n",
    "\n",
    "FN = \n",
    "\n",
    "TP = "
   ]
  },
  {
   "cell_type": "markdown",
   "metadata": {
    "colab_type": "text",
    "id": "jO2xqUSd9eTs"
   },
   "source": [
    "$$ Precision=\\frac{TP}{TP+FP}$$"
   ]
  },
  {
   "cell_type": "code",
   "execution_count": 41,
   "metadata": {
    "colab": {
     "base_uri": "https://localhost:8080/",
     "height": 34
    },
    "colab_type": "code",
    "id": "aOcFSVYz7xZ4",
    "outputId": "c3c8f500-3cdf-46b3-b9bb-672aecf2e9c3"
   },
   "outputs": [
    {
     "name": "stdout",
     "output_type": "stream",
     "text": [
      "Preicsion score: 0.8921568627450981\n"
     ]
    }
   ],
   "source": [
    "from sklearn.metrics import precision_score\n",
    "\n",
    "precision = precision_score(Y, y_predict_hard)\n",
    "\n",
    "print('Preicsion score: '+str(precision))"
   ]
  },
  {
   "cell_type": "markdown",
   "metadata": {
    "colab_type": "text",
    "id": "j8GbnuHD-l-n"
   },
   "source": [
    "$$ Recall=\\frac{TP}{TP+FN}$$\n"
   ]
  },
  {
   "cell_type": "code",
   "execution_count": 42,
   "metadata": {
    "colab": {
     "base_uri": "https://localhost:8080/",
     "height": 34
    },
    "colab_type": "code",
    "id": "mqdYHzAG-Sw0",
    "outputId": "cac199d3-9328-476e-a35d-4d5a911770cc"
   },
   "outputs": [
    {
     "name": "stdout",
     "output_type": "stream",
     "text": [
      "Recall score: 0.91\n"
     ]
    }
   ],
   "source": [
    "from sklearn.metrics import recall_score\n",
    "\n",
    "recall = recall_score(Y, y_predict_hard)\n",
    "\n",
    "print('Recall score: '+str(recall))"
   ]
  },
  {
   "cell_type": "markdown",
   "metadata": {
    "colab_type": "text",
    "id": "eOMGOuAm-m07"
   },
   "source": [
    "$$ F_1 score=2.\\frac{Precision.Recall}{Precision+Recall}$$"
   ]
  },
  {
   "cell_type": "code",
   "execution_count": 43,
   "metadata": {
    "colab": {
     "base_uri": "https://localhost:8080/",
     "height": 34
    },
    "colab_type": "code",
    "id": "kdaGWl92-YRc",
    "outputId": "611bae48-ff07-44df-ed29-5e8e97bb3b01"
   },
   "outputs": [
    {
     "name": "stdout",
     "output_type": "stream",
     "text": [
      "F1 score: 0.900990099009901\n"
     ]
    }
   ],
   "source": [
    "from sklearn.metrics import f1_score\n",
    "\n",
    "f1 = f1_score(Y, y_predict_hard)\n",
    "\n",
    "print('F1 score: '+str(f1))"
   ]
  },
  {
   "cell_type": "markdown",
   "metadata": {
    "colab_type": "text",
    "id": "UzjFFLxe_euZ"
   },
   "source": [
    "We plot a curve to help use find the best threshold in function of precision and recall"
   ]
  },
  {
   "cell_type": "code",
   "execution_count": 44,
   "metadata": {
    "colab": {
     "base_uri": "https://localhost:8080/",
     "height": 379
    },
    "colab_type": "code",
    "id": "F0myxWol_Uib",
    "outputId": "a880ff8c-11ab-4b5d-e36f-63836a02357c"
   },
   "outputs": [
    {
     "data": {
      "image/png": "[encoded data removed]",
      "text/plain": [
       "<matplotlib.figure.Figure at 0x7f6311c0bef0>"
      ]
     },
     "metadata": {
      "tags": []
     },
     "output_type": "display_data"
    }
   ],
   "source": [
    "thresh = np.arange(0, 1, 0.01)\n",
    "recall = np.zeros(100)\n",
    "precision = np.zeros(100)\n",
    "f1 = np.zeros(100)\n",
    "\n",
    "for i in range(0, 100):\n",
    "  \n",
    "\n",
    "  recall[i] = recall_score(Y, threshold(y_predict, thresh[i]))\n",
    "  precision[i] = precision_score(Y, threshold(y_predict, thresh[i]))\n",
    "  f1[i] = f1_score(Y, threshold(y_predict, thresh[i]))\n",
    "  \n",
    "plt.plot(thresh, precision, label='precision')\n",
    "plt.plot(thresh, recall, label='recall')\n",
    "plt.plot(thresh, f1, label='f1', color='red')\n",
    "plt.legend()\n",
    "plt.xlabel('Threshold')\n",
    "plt.ylabel('Percentage')\n",
    "plt.title('Precision, Recall and f1 score in function of threshold', fontsize=17)\n",
    "plt.show()"
   ]
  },
  {
   "cell_type": "markdown",
   "metadata": {
    "colab_type": "text",
    "id": "deOIlAPlEiiY"
   },
   "source": [
    "In this example we can take threshold that make the best compromise between precision and recall."
   ]
  },
  {
   "cell_type": "code",
   "execution_count": 45,
   "metadata": {
    "colab": {
     "base_uri": "https://localhost:8080/",
     "height": 85
    },
    "colab_type": "code",
    "id": "-UlBizu7Eqwx",
    "outputId": "8a6e943a-d128-4970-ceed-ae7240512269"
   },
   "outputs": [
    {
     "name": "stdout",
     "output_type": "stream",
     "text": [
      "Threshold which maximize f1 score is: 0.23\n",
      "F1 score: 0.9150943396226415\n",
      "Precision: 0.8660714285714286\n",
      "Recall: 0.97\n"
     ]
    }
   ],
   "source": [
    "index = np.argmax(f1)\n",
    "\n",
    "print('Threshold which maximize f1 score is: '+str(thresh[index]))\n",
    "print('F1 score: '+str(f1[index]))\n",
    "print('Precision: '+str(precision[index]))\n",
    "print('Recall: '+str(recall[index]))"
   ]
  },
  {
   "cell_type": "markdown",
   "metadata": {
    "colab_type": "text",
    "id": "BimIzjVbFM_l"
   },
   "source": [
    "We can interpret this precision like, 87% of obversations that our model classified as 1 is really 1.\n",
    "\n",
    "We can interpret this recall like, 97% of observations that are really 1 are detected. "
   ]
  },
  {
   "cell_type": "markdown",
   "metadata": {
    "colab_type": "text",
    "id": "0aj67MAkHaxt"
   },
   "source": [
    "### AUC and ROC Curve"
   ]
  },
  {
   "cell_type": "markdown",
   "metadata": {
    "colab_type": "text",
    "id": "moXWchGbHqSy"
   },
   "source": [
    "It's not worth to implement AUC and ROC Curve we will use sklearn instead.\n",
    "\n",
    "AUC doesn't need hard prediction to be effective."
   ]
  },
  {
   "cell_type": "code",
   "execution_count": 46,
   "metadata": {
    "colab": {
     "base_uri": "https://localhost:8080/",
     "height": 34
    },
    "colab_type": "code",
    "id": "XAuCfThwCNmJ",
    "outputId": "611554dd-c24e-414a-a873-af4f3d3a8ba3"
   },
   "outputs": [
    {
     "data": {
      "text/plain": [
       "0.9703999999999999"
      ]
     },
     "execution_count": 46,
     "metadata": {
      "tags": []
     },
     "output_type": "execute_result"
    }
   ],
   "source": [
    "from sklearn.metrics import roc_auc_score\n",
    "\n",
    "roc_auc_score(Y, y_predict)"
   ]
  },
  {
   "cell_type": "code",
   "execution_count": 47,
   "metadata": {
    "colab": {
     "base_uri": "https://localhost:8080/",
     "height": 379
    },
    "colab_type": "code",
    "id": "mdTKppafIql5",
    "outputId": "5a0fc5ab-699c-422d-dc8e-09109f85c4c0"
   },
   "outputs": [
    {
     "data": {
      "image/png": "[encoded data removed]",
      "text/plain": [
       "<matplotlib.figure.Figure at 0x7f6311beada0>"
      ]
     },
     "metadata": {
      "tags": []
     },
     "output_type": "display_data"
    }
   ],
   "source": [
    "from sklearn.metrics import roc_curve\n",
    "\n",
    "fpr, tpr, thresholds = roc_curve(Y, y_predict, pos_label=None, sample_weight=None, drop_intermediate=True)\n",
    "\n",
    "plt.plot(fpr, tpr)\n",
    "plt.xlabel('False positive rate (1-specificity)')\n",
    "plt.ylabel('True positive rate (sensitivity)')\n",
    "plt.title('ROC Curve', fontsize=17)\n",
    "plt.show()"
   ]
  },
  {
   "cell_type": "markdown",
   "metadata": {
    "colab_type": "text",
    "id": "wazoLuCAKrBE"
   },
   "source": [
    "## 4 Train & Test"
   ]
  },
  {
   "cell_type": "markdown",
   "metadata": {
    "colab_type": "text",
    "id": "mKdQChf1_d3Q"
   },
   "source": [
    "We will use sklearn to learn how to split our data into train and test using sklearn."
   ]
  },
  {
   "cell_type": "code",
   "execution_count": 48,
   "metadata": {
    "colab": {
     "base_uri": "https://localhost:8080/",
     "height": 34
    },
    "colab_type": "code",
    "id": "12Jhw2NkLC3Q",
    "outputId": "69b81608-fcee-4d6a-cef7-79276d874902"
   },
   "outputs": [
    {
     "name": "stdout",
     "output_type": "stream",
     "text": [
      "We select randomly our train set containing 134 examples and our test set containing 66 examples\n"
     ]
    }
   ],
   "source": [
    "from sklearn.model_selection import train_test_split\n",
    "\n",
    "X_train, X_test, y_train, y_test = train_test_split(X, Y, test_size=0.33, random_state=42)\n",
    "\n",
    "print('We select randomly our train set containing '+str(X_train.shape[0])+' examples and our test set containing '+str(X_test.shape[0])+' examples')"
   ]
  },
  {
   "cell_type": "code",
   "execution_count": 49,
   "metadata": {
    "colab": {
     "base_uri": "https://localhost:8080/",
     "height": 379
    },
    "colab_type": "code",
    "id": "lhA3_WkCMJE3",
    "outputId": "de6cf726-59bb-42b2-eacc-5ec18c2549cc"
   },
   "outputs": [
    {
     "data": {
      "image/png": "[encoded data removed]",
      "text/plain": [
       "<matplotlib.figure.Figure at 0x7f63144b7470>"
      ]
     },
     "metadata": {
      "tags": []
     },
     "output_type": "display_data"
    }
   ],
   "source": [
    "log_reg = LogisticRegression(solver='lbfgs', random_state=123)\n",
    "\n",
    "log_reg.fit(X_train, y_train)\n",
    "\n",
    "y_predict_training = log_reg.predict_proba(X_train)[:, 1]\n",
    "y_predict_testing = log_reg.predict_proba(X_test)[:, 1]\n",
    "\n",
    "fpr_train, tpr_train, _ = roc_curve(y_train, y_predict_training)\n",
    "fpr_test, tpr_test, _ = roc_curve(y_test, y_predict_testing)\n",
    "\n",
    "plt.plot(fpr_train, tpr_train, color='orange', label='Training set')\n",
    "plt.plot(fpr_test, tpr_test, color='blue', label='Testing set')\n",
    "plt.xlabel('False positive rate (1-specificity)')\n",
    "plt.ylabel('True positive rate (sensitivity)')\n",
    "plt.title('ROC Curve', fontsize=17)\n",
    "plt.legend()\n",
    "plt.show()"
   ]
  },
  {
   "cell_type": "code",
   "execution_count": 50,
   "metadata": {
    "colab": {
     "base_uri": "https://localhost:8080/",
     "height": 51
    },
    "colab_type": "code",
    "id": "df1yH_Q4Msko",
    "outputId": "e6772817-3da9-4aac-cc60-f00759872be4"
   },
   "outputs": [
    {
     "name": "stdout",
     "output_type": "stream",
     "text": [
      "AUC for trainning set: 0.9761426978818283\n",
      "AUC for testing set: 0.9585253456221199\n"
     ]
    }
   ],
   "source": [
    "auc_train = roc_auc_score(y_train, y_predict_training)\n",
    "auc_test = roc_auc_score(y_test, y_predict_testing)\n",
    "\n",
    "\n",
    "print('AUC for trainning set: '+str(auc_train))\n",
    "print('AUC for testing set: '+str(auc_test))"
   ]
  },
  {
   "cell_type": "markdown",
   "metadata": {
    "colab_type": "text",
    "id": "Wy0sLLRcN74X"
   },
   "source": [
    "You can see that the model perform less well on the testing than the training set. \n",
    "\n",
    "The performance of the model in the testing set is the one you should care the most. "
   ]
  },
  {
   "cell_type": "markdown",
   "metadata": {
    "colab_type": "text",
    "id": "HuAlUVJuOa4b"
   },
   "source": [
    "### Cross validation"
   ]
  },
  {
   "cell_type": "markdown",
   "metadata": {
    "colab_type": "text",
    "id": "_WDo47XeOdkv"
   },
   "source": [
    "To be sure that your model perform well and not just on one set of your set your should use cross validation.\n",
    "\n",
    "Kfold will iterate your previous split train test radomly K times."
   ]
  },
  {
   "cell_type": "code",
   "execution_count": 51,
   "metadata": {
    "colab": {
     "base_uri": "https://localhost:8080/",
     "height": 34
    },
    "colab_type": "code",
    "id": "p0nf2OiROnMz",
    "outputId": "a24ba4b5-37e1-4a17-c9dc-9500d85043c7"
   },
   "outputs": [
    {
     "name": "stdout",
     "output_type": "stream",
     "text": [
      "[0.94 0.98 0.97 0.98 0.98 0.98 0.98 0.98 0.99 1.  ]\n"
     ]
    }
   ],
   "source": [
    "from sklearn.model_selection import cross_val_score\n",
    "\n",
    "log_reg = LogisticRegression(solver='lbfgs', random_state=123)\n",
    "\n",
    "crossval_scores = cross_val_score(log_reg, X, Y, scoring='roc_auc', cv=10)\n",
    "\n",
    "print(crossval_scores)"
   ]
  },
  {
   "cell_type": "markdown",
   "metadata": {
    "colab_type": "text",
    "id": "ehfqodmVRYLg"
   },
   "source": [
    "We can see our AUC for the different folder we randomly created. "
   ]
  },
  {
   "cell_type": "code",
   "execution_count": 52,
   "metadata": {
    "colab": {
     "base_uri": "https://localhost:8080/",
     "height": 34
    },
    "colab_type": "code",
    "id": "V3wpDuTCRUxi",
    "outputId": "d8425e74-b2be-498e-88f5-f01e525891ee"
   },
   "outputs": [
    {
     "name": "stdout",
     "output_type": "stream",
     "text": [
      "Thanks to cross validation we can compute a more stable AUC: 0.978\n"
     ]
    }
   ],
   "source": [
    "auc_mean_CV = np.mean(crossval_scores)\n",
    "print('Thanks to cross validation we can compute a more stable AUC: '+str(auc_mean_CV))"
   ]
  },
  {
   "cell_type": "markdown",
   "metadata": {
    "colab_type": "text",
    "id": "4uOIYIQgSC8e"
   },
   "source": [
    "### 5 GridSearch"
   ]
  },
  {
   "cell_type": "markdown",
   "metadata": {
    "colab_type": "text",
    "id": "ZP_cidvDSGe1"
   },
   "source": [
    "Grid search is an algorithm that can help you to tune your model. \n",
    "\n",
    "This algorithm will test for you to train model with different hyperparameters and will keep the one that give the best performances."
   ]
  },
  {
   "cell_type": "code",
   "execution_count": 53,
   "metadata": {
    "colab": {
     "base_uri": "https://localhost:8080/",
     "height": 34
    },
    "colab_type": "code",
    "id": "lpSHPmrCQBQm",
    "outputId": "37c51ac6-9adc-475b-c1a5-ebc8b997be12"
   },
   "outputs": [
    {
     "name": "stdout",
     "output_type": "stream",
     "text": [
      "The best tested parameter is : {'C': 0.01}\n"
     ]
    }
   ],
   "source": [
    "from sklearn.model_selection import GridSearchCV\n",
    "\n",
    "log_reg = LogisticRegression(solver='lbfgs', random_state=123)\n",
    "\n",
    "# Parameter we want to test\n",
    "parameters = {'C':[0.01, 0.05, 0.1, 0.5, 1, 5, 10, 15]}\n",
    "\n",
    "# Initialize our gridsearch\n",
    "grid = GridSearchCV(log_reg, parameters, cv=10)\n",
    "\n",
    "# Test all possiblity and keep the best one\n",
    "model = grid.fit(X, Y)\n",
    "\n",
    "# Return the best parameter tested\n",
    "print('The best tested parameter is : '+str(model.best_params_))"
   ]
  }
 ],
 "metadata": {
  "colab": {
   "collapsed_sections": [],
   "name": "Lecture_2.ipynb",
   "provenance": [],
   "version": "0.3.2"
  },
  "kernelspec": {
   "display_name": "Python 3",
   "language": "python",
   "name": "python3"
  },
  "language_info": {
   "codemirror_mode": {
    "name": "ipython",
    "version": 3
   },
   "file_extension": ".py",
   "mimetype": "text/x-python",
   "name": "python",
   "nbconvert_exporter": "python",
   "pygments_lexer": "ipython3",
   "version": "3.6.6"
  }
 },
 "nbformat": 4,
 "nbformat_minor": 1
}
