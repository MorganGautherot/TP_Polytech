{
  "nbformat": 4,
  "nbformat_minor": 0,
  "metadata": {
    "colab": {
      "name": "Support Vector Machine.ipynb",
      "version": "0.3.2",
      "provenance": [],
      "include_colab_link": true
    },
    "kernelspec": {
      "name": "python3",
      "display_name": "Python 3"
    }
  },
  "cells": [
    {
      "cell_type": "markdown",
      "metadata": {
        "id": "view-in-github",
        "colab_type": "text"
      },
      "source": [
        "<a href=\"https://colab.research.google.com/github/MorganGautherot/Machine_Learning_Courses/blob/master/Support_Vector_Machine.ipynb\" target=\"_parent\"><img src=\"https://colab.research.google.com/assets/colab-badge.svg\" alt=\"Open In Colab\"/></a>"
      ]
    },
    {
      "metadata": {
        "id": "QVRfyCS23vOZ",
        "colab_type": "text"
      },
      "cell_type": "markdown",
      "source": [
        "# Support Vector Machine"
      ]
    },
    {
      "metadata": {
        "id": "hUll1EwwpE5F",
        "colab_type": "text"
      },
      "cell_type": "markdown",
      "source": [
        "## 1 Linear Regression VS SVR"
      ]
    },
    {
      "metadata": {
        "id": "zcTY-8NNpKS_",
        "colab_type": "text"
      },
      "cell_type": "markdown",
      "source": [
        "You will see the difference between linear regression and SVM regressor"
      ]
    },
    {
      "metadata": {
        "id": "q9ujfr9upNi7",
        "colab_type": "code",
        "colab": {}
      },
      "cell_type": "code",
      "source": [
        "m = 100\n",
        "X = 6 * np.random.rand(m, 1) - 3\n",
        "y = 0.5 * X**2 + X + 2 + np.random.randn(m, 1)\n",
        "\n",
        "plt.scatter(X,y)\n",
        "plt.show()"
      ],
      "execution_count": 0,
      "outputs": []
    },
    {
      "metadata": {
        "id": "ILh57oPopZnI",
        "colab_type": "text"
      },
      "cell_type": "markdown",
      "source": [
        "Standardize data and train a regression model"
      ]
    },
    {
      "metadata": {
        "id": "g5E6s0DDpVXC",
        "colab_type": "code",
        "colab": {}
      },
      "cell_type": "code",
      "source": [
        "### Your code start here ###\n",
        "\n",
        "# search in the sklearn documentation en use 'fit_transform'\n",
        "X_std = \n",
        "\n",
        "lin_reg =\n",
        "### Your code end here ###"
      ],
      "execution_count": 0,
      "outputs": []
    },
    {
      "metadata": {
        "id": "Ex5o7XfRqtuB",
        "colab_type": "code",
        "colab": {}
      },
      "cell_type": "code",
      "source": [
        "x_lr = np.array(np.arange(-3, 3, 0.1)).reshape(60, 1)\n",
        "y_lr = lin_reg.predict(x_lr)\n",
        "plt.plot(x_lr, y_lr, color='red')\n",
        "\n",
        "plt.scatter(X,y)\n",
        "plt.show()"
      ],
      "execution_count": 0,
      "outputs": []
    },
    {
      "metadata": {
        "id": "OoBodOk1rsKi",
        "colab_type": "text"
      },
      "cell_type": "markdown",
      "source": [
        "Standardize data and train a Support Vector Machine regressor. Help you with the sklearn documentation"
      ]
    },
    {
      "metadata": {
        "id": "p0y-NeMLrqMQ",
        "colab_type": "code",
        "colab": {}
      },
      "cell_type": "code",
      "source": [
        "### Your code start here ###\n",
        "\n",
        "# search in the sklearn documentation en use 'fit_transform'\n",
        "X_std = \n",
        "\n",
        "svm = \n",
        "\n",
        "### Your code end here ###"
      ],
      "execution_count": 0,
      "outputs": []
    },
    {
      "metadata": {
        "id": "57zXZMSWsAj6",
        "colab_type": "code",
        "colab": {}
      },
      "cell_type": "code",
      "source": [
        "x_lr = np.array(np.arange(-3, 3, 0.1)).reshape(60, 1)\n",
        "y_lr = svm.predict(x_lr)\n",
        "plt.plot(x_lr, y_lr, color='red')\n",
        "\n",
        "plt.scatter(X,y)\n",
        "plt.show()"
      ],
      "execution_count": 0,
      "outputs": []
    },
    {
      "metadata": {
        "id": "ey9YLPdmtQH2",
        "colab_type": "text"
      },
      "cell_type": "markdown",
      "source": [
        "As you can see SVM can better fit data than linear regression."
      ]
    },
    {
      "metadata": {
        "id": "5MWHs_dussi-",
        "colab_type": "text"
      },
      "cell_type": "markdown",
      "source": [
        "## 2 Logistic Regression VS SVC"
      ]
    },
    {
      "metadata": {
        "id": "cYfWK1yDs8CP",
        "colab_type": "text"
      },
      "cell_type": "markdown",
      "source": [
        "You will see the difference between and SVM classifier"
      ]
    },
    {
      "metadata": {
        "id": "IW6LdDBAs2G9",
        "colab_type": "code",
        "colab": {}
      },
      "cell_type": "code",
      "source": [
        "from sklearn.datasets import make_moons\n",
        "\n",
        "X, y = make_moons(n_samples=100, noise=0.1)\n",
        "\n",
        "plt.scatter(X[y==0][:,0], X[y==0][:,1], color='blue')\n",
        "plt.scatter(X[y==1][:,0], X[y==1][:,1], color='green')\n",
        "plt.show()"
      ],
      "execution_count": 0,
      "outputs": []
    },
    {
      "metadata": {
        "id": "aH7NnjAotCml",
        "colab_type": "text"
      },
      "cell_type": "markdown",
      "source": [
        "Standardize your data en train a logsitic regression."
      ]
    },
    {
      "metadata": {
        "id": "6g5PlpOUs3uT",
        "colab_type": "code",
        "colab": {}
      },
      "cell_type": "code",
      "source": [
        "### Your code start here ###\n",
        "\n",
        "# search in the sklearn documentation en use 'fit_transform'\n",
        "X_std = \n",
        "\n",
        "log_reg = \n",
        "\n",
        "### Your code end here ###"
      ],
      "execution_count": 0,
      "outputs": []
    },
    {
      "metadata": {
        "id": "Ex4RZHabtOgq",
        "colab_type": "code",
        "colab": {}
      },
      "cell_type": "code",
      "source": [
        "W0 = log_reg.intercept_\n",
        "W = log_reg.coef_\n",
        "\n",
        "rl_x = np.array(range(-1, 3))\n",
        "rl_y = (-1/W[0, 1]) * (rl_x * W[0, 0] + W0[0])\n",
        "\n",
        "plt.plot(rl_x, rl_y, c='red')\n",
        "\n",
        "plt.scatter(X[y==0][:,0], X[y==0][:,1], color='blue')\n",
        "plt.scatter(X[y==1][:,0], X[y==1][:,1], color='green')\n",
        "plt.show()"
      ],
      "execution_count": 0,
      "outputs": []
    },
    {
      "metadata": {
        "id": "xIZH0tQnu_kg",
        "colab_type": "text"
      },
      "cell_type": "markdown",
      "source": [
        "Standardize data and train a Support Vector Machine classifier Help you with the sklearn documentation"
      ]
    },
    {
      "metadata": {
        "id": "hlwkkrvRvJaO",
        "colab_type": "code",
        "colab": {}
      },
      "cell_type": "code",
      "source": [
        "### Your code start here ###\n",
        "\n",
        "# search in the sklearn documentation en use 'fit_transform'\n",
        "X_std = \n",
        "\n",
        "svm = \n",
        "\n",
        "### Your code end here ###"
      ],
      "execution_count": 0,
      "outputs": []
    },
    {
      "metadata": {
        "id": "oOynNkHuxHv1",
        "colab_type": "code",
        "colab": {}
      },
      "cell_type": "code",
      "source": [
        "def make_meshgrid(x, y, h=.02):\n",
        "    \"\"\"Create a mesh of points to plot in\n",
        "\n",
        "    Parameters\n",
        "    ----------\n",
        "    x: data to base x-axis meshgrid on\n",
        "    y: data to base y-axis meshgrid on\n",
        "    h: stepsize for meshgrid, optional\n",
        "\n",
        "    Returns\n",
        "    -------\n",
        "    xx, yy : ndarray\n",
        "    \"\"\"\n",
        "    x_min, x_max = x.min() - 1, x.max() + 1\n",
        "    y_min, y_max = y.min() - 1, y.max() + 1\n",
        "    xx, yy = np.meshgrid(np.arange(x_min, x_max, h),\n",
        "                         np.arange(y_min, y_max, h))\n",
        "    return xx, yy\n",
        "  \n",
        "def plot_contours(ax, clf, xx, yy, **params):\n",
        "    \"\"\"Plot the decision boundaries for a classifier.\n",
        "\n",
        "    Parameters\n",
        "    ----------\n",
        "    ax: matplotlib axes object\n",
        "    clf: a classifier\n",
        "    xx: meshgrid ndarray\n",
        "    yy: meshgrid ndarray\n",
        "    params: dictionary of params to pass to contourf, optional\n",
        "    \"\"\"\n",
        "    Z = clf.predict(np.c_[xx.ravel(), yy.ravel()])\n",
        "    Z = Z.reshape(xx.shape)\n",
        "    out = ax.contourf(xx, yy, Z, **params)\n",
        "    return out\n",
        "  \n",
        "X0, X1 = X[:, 0], X[:, 1]\n",
        "xx, yy = make_meshgrid(X0, X1)\n",
        "  \n",
        "plot_contours(plt, svm, xx, yy, cmap=plt.cm.coolwarm, alpha=0.8)\n",
        "plt.scatter(X0, X1, c=y, cmap=plt.cm.coolwarm, s=20, edgecolors='k')\n",
        "plt.xlim(xx.min(), xx.max())\n",
        "plt.ylim(yy.min(), yy.max())\n",
        "plt.xlabel('x2')\n",
        "plt.ylabel('x1')\n",
        "plt.xticks(())\n",
        "plt.yticks(())\n",
        "plt.title('SVM decision boundary')\n",
        "plt.show()"
      ],
      "execution_count": 0,
      "outputs": []
    },
    {
      "metadata": {
        "id": "g2WbRedE4EgS",
        "colab_type": "text"
      },
      "cell_type": "markdown",
      "source": [
        "## 3 C hyperpramater in SVM regressor"
      ]
    },
    {
      "metadata": {
        "id": "1ZNmPMF54a4j",
        "colab_type": "code",
        "colab": {}
      },
      "cell_type": "code",
      "source": [
        "import matplotlib.pyplot as plt\n",
        "import seaborn as sns\n",
        "import numpy as np\n",
        "\n",
        "np.random.seed(123)"
      ],
      "execution_count": 0,
      "outputs": []
    },
    {
      "metadata": {
        "id": "7DXib7s54ydw",
        "colab_type": "text"
      },
      "cell_type": "markdown",
      "source": [
        "To work we need data, run this piece of code and upload the dataset : univariate_regression.txt"
      ]
    },
    {
      "metadata": {
        "id": "B7KZ-iGp4wUv",
        "colab_type": "code",
        "colab": {}
      },
      "cell_type": "code",
      "source": [
        "from google.colab import files\n",
        "\n",
        "uploaded = files.upload()\n",
        "\n",
        "for fn in uploaded.keys():\n",
        "    print('User uploaded file \"{name}\" with length {length} bytes'.format(name=fn, length=len(uploaded[fn])))"
      ],
      "execution_count": 0,
      "outputs": []
    },
    {
      "metadata": {
        "id": "36ik9dmw8cCV",
        "colab_type": "code",
        "colab": {}
      },
      "cell_type": "code",
      "source": [
        "svm_data_1 = np.genfromtxt('svm_data_1.txt', delimiter=',')"
      ],
      "execution_count": 0,
      "outputs": []
    },
    {
      "metadata": {
        "id": "L7C4XAyS8jUt",
        "colab_type": "code",
        "colab": {}
      },
      "cell_type": "code",
      "source": [
        "# We construct the X dataset \n",
        "X = svm_data_1[:, :2]\n",
        "\n",
        "# We construct the Y dataset\n",
        "y = svm_data_1[:, 2]"
      ],
      "execution_count": 0,
      "outputs": []
    },
    {
      "metadata": {
        "id": "ihjFeA01fio8",
        "colab_type": "text"
      },
      "cell_type": "markdown",
      "source": [
        "First use what you saw on the Lecture 2 to standardize your data using sklearn."
      ]
    },
    {
      "metadata": {
        "id": "8ibXhRPjfsGN",
        "colab_type": "code",
        "colab": {}
      },
      "cell_type": "code",
      "source": [
        "### Your code start here ###\n",
        "\n",
        "\n",
        "# search in the sklearn documentation en use 'fit_transform'\n",
        "X_std = \n",
        "\n",
        "### Your code end here ###"
      ],
      "execution_count": 0,
      "outputs": []
    },
    {
      "metadata": {
        "id": "4Wsd2bbw_lcl",
        "colab_type": "text"
      },
      "cell_type": "markdown",
      "source": [
        "We will begin by with a 2D example dataset which can be separated by a linear boundary. In this dataset, the positions of the positive examples (indicated by a triangle in green) and the negative examples (indicated bya circle in blue) suggest a natural separation indicated by the gap. However, notice that there is an outlier positive example a triangle in green on the far left at about (0.1, 4.1). As part of this exercise, you will also see how this outlier affects the SVM decision boundary."
      ]
    },
    {
      "metadata": {
        "id": "Rriy73TS8w7h",
        "colab_type": "code",
        "colab": {}
      },
      "cell_type": "code",
      "source": [
        "plt.scatter(X[y==0, 0], X[y==0, 1], label='Admitted')\n",
        "plt.scatter(X[y==1, 0], X[y==1, 1], label='Not admitted', marker='v')\n",
        "plt.title('Example Dataset 1', size='xx-large')\n",
        "\n",
        "plt.show()"
      ],
      "execution_count": 0,
      "outputs": []
    },
    {
      "metadata": {
        "id": "N931RqeBAfd0",
        "colab_type": "text"
      },
      "cell_type": "markdown",
      "source": [
        "In this part of the exercise, you will try using different values of the C parameter with SVMs. Informally, the C parameter is a positive value that controls the penalty for misclassified training examples. A large C parameter tells the SVM to try to classify all the examples correctly. C plays a role similar to $\\frac{1}{\\lambda}$ , where $\\lambda$ is the regularization parameter that we were using previously for logistic regression.\n",
        "\n",
        "New cost function :\n",
        "\n",
        "$$J(W)=C[\\sum^{m}_{i}y^{(i)}cost_1(W^Tx{(i)})+(1-y^{(i)})cost_0(W^Tx^{(i)})]+\\frac{1}{2}\\sum^m_{i=1}w^2_j$$\n",
        "\n",
        "\n",
        "$$C=\\frac{1}{\\lambda}$$"
      ]
    },
    {
      "metadata": {
        "id": "9jL3_AmgkLjs",
        "colab_type": "text"
      },
      "cell_type": "markdown",
      "source": [
        "Try different value of C and "
      ]
    },
    {
      "metadata": {
        "id": "NU80KKaB9nA7",
        "colab_type": "code",
        "colab": {}
      },
      "cell_type": "code",
      "source": [
        "from sklearn.svm import SVC\n",
        "\n",
        "### Your code start here ###\n",
        "svc = SVC(C=1, kernel='linear', gamma='scale')\n",
        "### Your code end here ###\n",
        "\n",
        "svc.fit(X, y)\n",
        "\n",
        "W0 = svc.intercept_\n",
        "W = svc.coef_\n",
        "\n",
        "rl_x = np.array(range(0, 5))\n",
        "rl_y = (-1/W[0, 1]) * (rl_x * W[0, 0] + W0[0])\n",
        "\n",
        "plt.plot(rl_x, rl_y, c='red')\n",
        "\n",
        "plt.scatter(X[y==0, 0], X[y==0, 1], label='Admitted')\n",
        "plt.scatter(X[y==1, 0], X[y==1, 1], label='Not admitted', marker='v')\n",
        "plt.title('SVM Decision Boundary in function of C', size='xx-large')\n",
        "\n",
        "plt.show()"
      ],
      "execution_count": 0,
      "outputs": []
    },
    {
      "metadata": {
        "id": "2jEjwfP9kUUw",
        "colab_type": "text"
      },
      "cell_type": "markdown",
      "source": [
        "What do you think about the impact of C in this example ?"
      ]
    },
    {
      "metadata": {
        "id": "v2bemr1q0QDh",
        "colab_type": "text"
      },
      "cell_type": "markdown",
      "source": [
        "## 4 impact of C in SVM classifier"
      ]
    },
    {
      "metadata": {
        "id": "tUnowXRileF9",
        "colab_type": "code",
        "colab": {}
      },
      "cell_type": "code",
      "source": [
        "from sklearn.datasets import make_moons\n",
        "\n",
        "X, y = make_moons(n_samples=100, noise=0.1)\n",
        "\n",
        "plt.scatter(X[y==0][:,0], X[y==0][:,1], color='blue')\n",
        "plt.scatter(X[y==1][:,0], X[y==1][:,1], color='green')\n",
        "plt.show()"
      ],
      "execution_count": 0,
      "outputs": []
    },
    {
      "metadata": {
        "id": "AN9ZqFkz1Ofw",
        "colab_type": "text"
      },
      "cell_type": "markdown",
      "source": [
        "Play with C parameter."
      ]
    },
    {
      "metadata": {
        "id": "SGm-EYUilIAc",
        "colab_type": "code",
        "colab": {}
      },
      "cell_type": "code",
      "source": [
        "std = StandardScaler()\n",
        "# search in the sklearn documentation en use 'fit_transform'\n",
        "X_std = std.fit_transform(X)\n",
        "\n",
        "### Your code start here ###\n",
        "svm = SVC(C=1, kernel='rbf', gamma='scale')\n",
        "### Your code end here ###\n",
        "\n",
        "svm.fit(X, y)\n",
        "\n",
        "X0, X1 = X[:, 0], X[:, 1]\n",
        "xx, yy = make_meshgrid(X0, X1)\n",
        "  \n",
        "plot_contours(plt, svm, xx, yy, cmap=plt.cm.coolwarm, alpha=0.8)\n",
        "plt.scatter(X0, X1, c=y, cmap=plt.cm.coolwarm, s=20, edgecolors='k')\n",
        "plt.xlim(xx.min(), xx.max())\n",
        "plt.ylim(yy.min(), yy.max())\n",
        "plt.xlabel('x2')\n",
        "plt.ylabel('x1')\n",
        "plt.xticks(())\n",
        "plt.yticks(())\n",
        "plt.title('SVM decision boundary')\n",
        "plt.show()"
      ],
      "execution_count": 0,
      "outputs": []
    },
    {
      "metadata": {
        "id": "DdITIUqu1RJU",
        "colab_type": "text"
      },
      "cell_type": "markdown",
      "source": [
        "What do you think about C when it comes large ? And whne it comes small ?"
      ]
    },
    {
      "metadata": {
        "id": "nXQygU_H2KHm",
        "colab_type": "text"
      },
      "cell_type": "markdown",
      "source": [
        "Test different kernel (sigmoid, poly, linear, etc...)"
      ]
    }
  ]
}